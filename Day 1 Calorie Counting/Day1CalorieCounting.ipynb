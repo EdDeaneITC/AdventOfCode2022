{
 "cells": [
  {
   "cell_type": "code",
   "execution_count": 2,
   "id": "490a280e",
   "metadata": {},
   "outputs": [],
   "source": [
    "import pandas as pd\n",
    "\n",
    "workdir = 'C:\\\\Users\\\\ed.deane\\\\OneDrive - Sabio Ltd\\\\Documents\\\\Customers\\\\IKEA\\\\Knowledge\\\\Python\\\\AdventOfCode\\\\Day 1 Calorie Counting\\\\'\n",
    "\n",
    "with open(workdir+'1.input.txt', 'r') as file:\n",
    "    data = file.read().replace('\\n', ',').replace(',,', '\\n').rstrip(',')\n",
    "    \n",
    "print(data, file=open(workdir+'1.input.csv', 'w'))\n",
    "\n",
    "\n",
    "df = pd.read_csv(workdir+'1.input.csv', sep=':',header=None)"
   ]
  },
  {
   "cell_type": "code",
   "execution_count": 3,
   "id": "618ac318",
   "metadata": {},
   "outputs": [],
   "source": [
    "df['arr']=df[0].str.split(',')"
   ]
  },
  {
   "cell_type": "code",
   "execution_count": 4,
   "id": "d4c33ade",
   "metadata": {},
   "outputs": [
    {
     "name": "stdout",
     "output_type": "stream",
     "text": [
      "47448\n",
      "59018\n",
      "63645\n",
      "63967\n",
      "67023\n",
      "68923\n"
     ]
    }
   ],
   "source": [
    "#iterate\n",
    "winner = 0\n",
    "for index, row in df.iterrows():\n",
    "    if sum(map(int,row['arr'])) > winner:\n",
    "        winner = sum(map(int,row['arr']))\n",
    "        print (winner)"
   ]
  },
  {
   "cell_type": "code",
   "execution_count": 142,
   "id": "81d211b9",
   "metadata": {},
   "outputs": [],
   "source": [
    "#dataframe\n",
    "df['sum']=df.apply(lambda row: sum(map(int,row['arr'])), axis=1)"
   ]
  },
  {
   "cell_type": "code",
   "execution_count": 149,
   "id": "3c5d7c56",
   "metadata": {},
   "outputs": [
    {
     "data": {
      "text/html": [
       "<div>\n",
       "<style scoped>\n",
       "    .dataframe tbody tr th:only-of-type {\n",
       "        vertical-align: middle;\n",
       "    }\n",
       "\n",
       "    .dataframe tbody tr th {\n",
       "        vertical-align: top;\n",
       "    }\n",
       "\n",
       "    .dataframe thead th {\n",
       "        text-align: right;\n",
       "    }\n",
       "</style>\n",
       "<table border=\"1\" class=\"dataframe\">\n",
       "  <thead>\n",
       "    <tr style=\"text-align: right;\">\n",
       "      <th></th>\n",
       "      <th>0</th>\n",
       "      <th>arr</th>\n",
       "      <th>sum</th>\n",
       "    </tr>\n",
       "  </thead>\n",
       "  <tbody>\n",
       "    <tr>\n",
       "      <th>224</th>\n",
       "      <td>12512,13741,6425,13234,10597,12414</td>\n",
       "      <td>[12512, 13741, 6425, 13234, 10597, 12414]</td>\n",
       "      <td>68923</td>\n",
       "    </tr>\n",
       "    <tr>\n",
       "      <th>118</th>\n",
       "      <td>67023</td>\n",
       "      <td>[67023]</td>\n",
       "      <td>67023</td>\n",
       "    </tr>\n",
       "    <tr>\n",
       "      <th>128</th>\n",
       "      <td>7435,6290,3249,9358,9196,8951,5023,4910,9686</td>\n",
       "      <td>[7435, 6290, 3249, 9358, 9196, 8951, 5023, 491...</td>\n",
       "      <td>64098</td>\n",
       "    </tr>\n",
       "  </tbody>\n",
       "</table>\n",
       "</div>"
      ],
      "text/plain": [
       "                                                0  \\\n",
       "224            12512,13741,6425,13234,10597,12414   \n",
       "118                                         67023   \n",
       "128  7435,6290,3249,9358,9196,8951,5023,4910,9686   \n",
       "\n",
       "                                                   arr    sum  \n",
       "224          [12512, 13741, 6425, 13234, 10597, 12414]  68923  \n",
       "118                                            [67023]  67023  \n",
       "128  [7435, 6290, 3249, 9358, 9196, 8951, 5023, 491...  64098  "
      ]
     },
     "execution_count": 149,
     "metadata": {},
     "output_type": "execute_result"
    }
   ],
   "source": [
    "df = df.sort_values(by=['sum'], ascending=False)\n"
   ]
  },
  {
   "cell_type": "code",
   "execution_count": 152,
   "id": "845da386",
   "metadata": {},
   "outputs": [
    {
     "data": {
      "text/plain": [
       "200044"
      ]
     },
     "execution_count": 152,
     "metadata": {},
     "output_type": "execute_result"
    }
   ],
   "source": [
    "df['sum'].head(3).sum()"
   ]
  }
 ],
 "metadata": {
  "kernelspec": {
   "display_name": "Python 3 (ipykernel)",
   "language": "python",
   "name": "python3"
  },
  "language_info": {
   "codemirror_mode": {
    "name": "ipython",
    "version": 3
   },
   "file_extension": ".py",
   "mimetype": "text/x-python",
   "name": "python",
   "nbconvert_exporter": "python",
   "pygments_lexer": "ipython3",
   "version": "3.9.13"
  }
 },
 "nbformat": 4,
 "nbformat_minor": 5
}
