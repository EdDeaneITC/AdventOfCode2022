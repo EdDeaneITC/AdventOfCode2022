{
 "cells": [
  {
   "cell_type": "code",
   "execution_count": 24,
   "id": "5b1ae11c",
   "metadata": {},
   "outputs": [
    {
     "name": "stdout",
     "output_type": "stream",
     "text": [
      "Monkey 0 created\n",
      "Monkey 1 created\n",
      "Monkey 2 created\n",
      "Monkey 3 created\n",
      "0\n",
      "20\n",
      "40\n",
      "60\n",
      "80\n",
      "100\n",
      "120\n",
      "140\n",
      "160\n",
      "180\n",
      "200\n",
      "220\n",
      "240\n",
      "260\n",
      "280\n",
      "300\n",
      "320\n",
      "340\n",
      "360\n",
      "380\n",
      "400\n",
      "420\n",
      "440\n",
      "460\n",
      "480\n",
      "500\n",
      "520\n",
      "540\n",
      "560\n",
      "580\n",
      "600\n",
      "620\n",
      "640\n",
      "660\n",
      "680\n",
      "700\n",
      "720\n",
      "740\n",
      "760\n",
      "780\n",
      "800\n",
      "820\n",
      "840\n",
      "860\n",
      "880\n",
      "900\n",
      "920\n",
      "940\n",
      "960\n",
      "980\n"
     ]
    },
    {
     "data": {
      "text/plain": [
       "27019168"
      ]
     },
     "execution_count": 24,
     "metadata": {},
     "output_type": "execute_result"
    }
   ],
   "source": [
    "#from math import trunc\n",
    "import math\n",
    "workdir = 'C:\\\\Users\\\\ed.deane\\\\Python\\\\AdventOfCode\\\\Day 11 Monkey In The Middle\\\\'\n",
    "\n",
    "starting_items=''\n",
    "operation = ''\n",
    "monkeys = {}\n",
    "\n",
    "def get_value(a):\n",
    "    return (a.split(':')[1].replace(\"\\n\",\"\"))\n",
    "\n",
    "def add_monkey(monkeys, num, starting_items, operation, test, if_true, if_false):\n",
    "    \n",
    "    starting_items_lst = [int(item) for item in starting_items.replace(\" \",\"\").split(',') if item.isdigit()]\n",
    "    \n",
    "    monk={'starting_items':starting_items_lst, \n",
    "          'operation':operation.strip(),\n",
    "          'test_divisor':int(test.split()[-1]),\n",
    "          'if_true':int(if_true[-1]),\n",
    "          'if_false':int(if_false[-1]),\n",
    "          'items_inspected':0\n",
    "         }\n",
    "    print ('Monkey', num,'created')\n",
    "    monkeys.update({int(num) : monk})    \n",
    "    return monkeys\n",
    "\n",
    "def throw_items(monkeys,item,worry_level, from_monkey_num, to_monkey_num):    \n",
    "    monkeys[from_monkey_num]['starting_items'].remove(item)    \n",
    "    monkeys[to_monkey_num]['starting_items'].append(worry_level)    \n",
    "    return monkeys\n",
    "\n",
    "def reduce_large_nums(monkeys,val): \n",
    "    max_val = math.prod([monkeys[j]['test_divisor'] for j in monkeys])\n",
    "    val = val%max_val\n",
    "    return val\n",
    "\n",
    "def apply_operation(i,operation): \n",
    "    exec (operation.replace('old',str(i)), None, globals()) \n",
    "    return new\n",
    "\n",
    "\n",
    "def execute_round(monkeys):    \n",
    "    for j in monkeys:\n",
    "        execute_turn(monkeys,j)\n",
    "        \n",
    "def increment_items_inspected(monkeys, monkey_num,items_inspected):\n",
    "    monkeys[monkey_num]['items_inspected'] = monkeys[monkey_num]['items_inspected'] + items_inspected\n",
    "    return monkeys\n",
    "\n",
    "def execute_turn(monkeys, monkey_num):\n",
    "    items = monkeys[monkey_num]['starting_items'].copy()\n",
    "    #print ('Process each item for monkey', monkey_num, items)\n",
    "    for i in items:\n",
    "        # process the item\n",
    "        # Apply operation such as multiple by 19\n",
    "        worry_level = apply_operation(i,monkeys[monkey_num]['operation'])\n",
    "        \n",
    "        #Try reducing the worry level by multplying all the other divisors and taking the rem\n",
    "        worry_level = reduce_large_nums(monkeys,worry_level)\n",
    "        \n",
    "        #Current worry level is not divisible by 23.\n",
    "        if(worry_level%monkeys[monkey_num]['test_divisor'] == 0):\n",
    "            #passed the divisor test\n",
    "            monkeys=throw_items(monkeys,i, worry_level,monkey_num, monkeys[monkey_num]['if_true'])\n",
    "            #print (\"Item with worry level\", worry_level, \"is thrown to monkey \",  monkeys[monkey_num]['if_true'])\n",
    "        else:\n",
    "            monkeys=throw_items(monkeys,i, worry_level,monkey_num, monkeys[monkey_num]['if_false'])\n",
    "            #print (\"Item with worry level\", worry_level, \"is thrown to monkey \",  monkeys[monkey_num]['if_false'])\n",
    "        \n",
    "    increment_items_inspected(monkeys, monkey_num,len(items))\n",
    "    \n",
    "    return monkeys\n",
    "\n",
    "f = open(workdir+'test_input.txt', \"r\")\n",
    "for x in f:\n",
    "    #print (x)\n",
    "    if (x.find('Monkey')==0):\n",
    "        num = x[7:x.find(':')]\n",
    "    if (x.find('Starting items')>0):\n",
    "        starting_items = get_value(x)\n",
    "    if (x.find('Operation')>0):\n",
    "        operation = get_value(x)\n",
    "    if (x.find('Test: ')>0):\n",
    "        test = get_value(x)\n",
    "    if (x.find('If true:')>0):\n",
    "        if_true = get_value(x)\n",
    "    if (x.find('If false:')>0):\n",
    "        if_false = get_value(x)\n",
    "        add_monkey (monkeys,num, starting_items, operation, test, if_true, if_false)\n",
    "        \n",
    "f.close()\n",
    "\n",
    "for i in range(1000):\n",
    "    execute_round(monkeys)\n",
    "    if (i%20==0):\n",
    "        print(i)\n",
    "\n",
    "lst = [monkeys[j]['items_inspected'] for j in monkeys]\n",
    "\n",
    "lst_sorted = sorted(lst,reverse=True)\n",
    "lst_sorted[0]*lst_sorted[1]"
   ]
  },
  {
   "cell_type": "code",
   "execution_count": 25,
   "id": "2655e120",
   "metadata": {},
   "outputs": [
    {
     "data": {
      "text/plain": [
       "{0: {'starting_items': [84464, 48934, 39396, 19275, 48307, 82374, 27591],\n",
       "  'operation': 'new = old * 19',\n",
       "  'test_divisor': 23,\n",
       "  'if_true': 2,\n",
       "  'if_false': 3,\n",
       "  'items_inspected': 5204},\n",
       " 1: {'starting_items': [12752, 69429, 31980],\n",
       "  'operation': 'new = old + 6',\n",
       "  'test_divisor': 19,\n",
       "  'if_true': 2,\n",
       "  'if_false': 0,\n",
       "  'items_inspected': 4792},\n",
       " 2: {'starting_items': [],\n",
       "  'operation': 'new = old * old',\n",
       "  'test_divisor': 13,\n",
       "  'if_true': 1,\n",
       "  'if_false': 3,\n",
       "  'items_inspected': 199},\n",
       " 3: {'starting_items': [],\n",
       "  'operation': 'new = old + 3',\n",
       "  'test_divisor': 17,\n",
       "  'if_true': 0,\n",
       "  'if_false': 1,\n",
       "  'items_inspected': 5192}}"
      ]
     },
     "execution_count": 25,
     "metadata": {},
     "output_type": "execute_result"
    }
   ],
   "source": [
    "monkeys"
   ]
  },
  {
   "cell_type": "code",
   "execution_count": 13,
   "id": "d86e14fd",
   "metadata": {},
   "outputs": [
    {
     "name": "stdout",
     "output_type": "stream",
     "text": [
      "23\n",
      "19\n",
      "13\n",
      "17\n"
     ]
    }
   ],
   "source": [
    "for j in monkeys:\n",
    "    print (monkeys[j]['test_divisor'])"
   ]
  },
  {
   "cell_type": "code",
   "execution_count": 20,
   "id": "153d08e3",
   "metadata": {},
   "outputs": [
    {
     "name": "stdout",
     "output_type": "stream",
     "text": [
      "23\n"
     ]
    }
   ],
   "source": [
    "print (123%100)"
   ]
  }
 ],
 "metadata": {
  "kernelspec": {
   "display_name": "Python 3 (ipykernel)",
   "language": "python",
   "name": "python3"
  },
  "language_info": {
   "codemirror_mode": {
    "name": "ipython",
    "version": 3
   },
   "file_extension": ".py",
   "mimetype": "text/x-python",
   "name": "python",
   "nbconvert_exporter": "python",
   "pygments_lexer": "ipython3",
   "version": "3.9.7"
  }
 },
 "nbformat": 4,
 "nbformat_minor": 5
}
