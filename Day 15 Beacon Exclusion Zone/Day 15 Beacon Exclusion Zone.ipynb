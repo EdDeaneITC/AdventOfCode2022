{
 "cells": [
  {
   "cell_type": "code",
   "execution_count": 1,
   "id": "ab7869d9",
   "metadata": {},
   "outputs": [],
   "source": [
    "import pandas as pd\n",
    "import matplotlib.pyplot as plt\n",
    "\n",
    "# Do this long hand intially, using a df or graph to store the coordinates \n",
    "# At a later date, look to see if there are better ways to acheive it with graph based algorythms\n",
    "\n",
    "workdir = 'C:\\\\Users\\\\ed.deane\\\\OneDrive - Sabio Ltd\\\\Documents\\\\Customers\\\\IKEA\\\\Knowledge\\\\Python\\\\AdventOfCode\\\\Day 15 Beacon Exclusion Zone\\\\'\n",
    "\n",
    "df= pd.read_csv(workdir+'input.txt', header=None, sep='|')\n",
    "\n",
    "s_x = []\n",
    "s_y = []\n",
    "b_x = []\n",
    "b_y = []\n",
    "f_x = []\n",
    "f_y = []\n",
    "\n",
    "for row in df[0]:\n",
    "    i = row.split('=')\n",
    "    s_x.append(int(i[1].split(',')[0]))\n",
    "    s_y.append(int(i[2].split(':')[0]))\n",
    "    b_x.append(int(i[3].split(',')[0]))\n",
    "    b_y.append(int(i[4]))\n",
    "    \n"
   ]
  },
  {
   "cell_type": "code",
   "execution_count": null,
   "id": "e3431032",
   "metadata": {},
   "outputs": [
    {
     "name": "stdout",
     "output_type": "stream",
     "text": [
      "Beacon is at 527500 3570474\n",
      "Sensor is at 346753 3974683\n",
      "Manhattan distance is 584956\n"
     ]
    }
   ],
   "source": [
    "def fill_space_between(j):\n",
    "    #print (s_x[j], s_y[j], b_x[j], b_y[j])\n",
    "    \n",
    "    #from the beacon, extend out an area of manhattan distance around it and fill\n",
    "    print(\"Beacon is at\", b_x[j], b_y[j])\n",
    "    print(\"Sensor is at\", s_x[j], s_y[j])\n",
    "    \n",
    "    md = abs(s_x[j] - b_x[j])+abs(s_y[j] - b_y[j])\n",
    "    print(\"Manhattan distance is\", md)\n",
    "    \n",
    "    #Fill everything that is up to the Manhattan distance away\n",
    "    \n",
    "    #Start s_x-md and end at s_x+md\n",
    "    for x_range in range(s_x[j]-md, s_x[j]+md+1):\n",
    "        #For each value, populate everything in y range + and - (9-distance along x from sensor)\n",
    "        y_dist = md-abs(s_x[j]-x_range)\n",
    "        for y_range in range(s_y[j]-y_dist,s_y[j]+y_dist+1):\n",
    "            f_x.append(x_range)\n",
    "            f_y.append(y_range)\n",
    "\n",
    "    return None\n",
    "\n",
    "for i in range(len(s_x)):\n",
    "    fill_space_between(i)\n",
    "    \n",
    "\"\"\"\n",
    "plt.scatter(b_x, b_y, label= \"beacons\", color= \"green\", \n",
    "            marker= \"*\", s=60,)\n",
    "\n",
    "plt.scatter(s_x, s_y, label= \"sensors\", color= \"red\", \n",
    "            marker= \"s\", s=45,)\n",
    "\n",
    "plt.scatter(f_x, f_y, label= \"fill\", color= \"blue\", \n",
    "            marker= \".\", s=30,)\n",
    "  \n",
    "# x-axis label\n",
    "plt.xlabel('x - axis')\n",
    "# frequency label\n",
    "plt.ylabel('y - axis')\n",
    "# plot title\n",
    "plt.title('')\n",
    "# showing legend\n",
    "plt.legend()\n",
    "  \n",
    "# function to show the plot\n",
    "\"\"\""
   ]
  },
  {
   "cell_type": "code",
   "execution_count": null,
   "id": "926b96e4",
   "metadata": {},
   "outputs": [],
   "source": [
    "#get list of all the x positions where y is our target number (10)\n",
    "target_y = 2000000\n",
    "all_target_x = []\n",
    "for j in range(len(f_x)):\n",
    "    if(f_y[j])==target_y:\n",
    "        all_target_x.append(f_x[j])\n",
    "        \n",
    "print(max(all_target_x) - min(all_target_x))"
   ]
  }
 ],
 "metadata": {
  "kernelspec": {
   "display_name": "Python 3 (ipykernel)",
   "language": "python",
   "name": "python3"
  },
  "language_info": {
   "codemirror_mode": {
    "name": "ipython",
    "version": 3
   },
   "file_extension": ".py",
   "mimetype": "text/x-python",
   "name": "python",
   "nbconvert_exporter": "python",
   "pygments_lexer": "ipython3",
   "version": "3.9.13"
  }
 },
 "nbformat": 4,
 "nbformat_minor": 5
}
