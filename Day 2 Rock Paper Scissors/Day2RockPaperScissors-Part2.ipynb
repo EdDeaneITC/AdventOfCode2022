{
 "cells": [
  {
   "cell_type": "code",
   "execution_count": 1,
   "id": "490a280e",
   "metadata": {},
   "outputs": [],
   "source": [
    "import pandas as pd\n",
    "\n",
    "workdir = 'C:\\\\Users\\\\ed.deane\\\\OneDrive - Sabio Ltd\\\\Documents\\\\Customers\\\\IKEA\\\\Knowledge\\\\Python\\\\AdventOfCode\\\\Day 2 Rock Paper Scissors\\\\'\n",
    "\n",
    "df = pd.read_csv(workdir+'input.txt', sep=' ',header=None)\n"
   ]
  },
  {
   "cell_type": "code",
   "execution_count": 12,
   "id": "618ac318",
   "metadata": {},
   "outputs": [],
   "source": [
    "def convert_to_RPS_outcome(opponent, outcome_code):\n",
    "    #opponent A for Rock, B for Paper, and C for Scissors\n",
    "    opp_choice = {\n",
    "        'A': 'Rock',\n",
    "        'B': 'Paper',\n",
    "        'C': 'Scissors',\n",
    "    }[opponent]\n",
    "    \n",
    "    outcome =  {\n",
    "        'X': 'lose',\n",
    "        'Y': 'draw',\n",
    "        'Z': 'win',\n",
    "    }[outcome_code]\n",
    "    return (opp_choice,outcome)\n",
    "\n",
    "def choice_score(x):\n",
    "    #1 for Rock, 2 for Paper, and 3 for Scissors\n",
    "    return {\n",
    "        'Rock': 1,\n",
    "        'Paper': 2,\n",
    "        'Scissors':3,\n",
    "    }[x]\n",
    "\n",
    "def get_you_choice(opp_choice,outcome):\n",
    "    if(outcome=='draw'):\n",
    "        ret = opp_choice\n",
    "    if(opp_choice=='Rock' and outcome=='win'):\n",
    "        ret = 'Paper'\n",
    "    if(opp_choice=='Rock' and outcome=='lose'):\n",
    "        ret = 'Scissors'\n",
    "    if(opp_choice=='Paper' and outcome=='lose'):\n",
    "        ret = 'Rock'\n",
    "    if(opp_choice=='Paper' and outcome=='win'):\n",
    "        ret = 'Scissors'\n",
    "    if(opp_choice=='Scissors' and outcome=='win'):\n",
    "        ret = 'Rock'\n",
    "    if(opp_choice=='Scissors' and outcome=='lose'):\n",
    "        ret = 'Paper'\n",
    "    return ret\n",
    "\n",
    "def calc_scores(choice_score, outcome):\n",
    "    return {\n",
    "        'lose': 0,\n",
    "        'draw': 3,\n",
    "        'win':6,\n",
    "    }[outcome]+choice_score"
   ]
  },
  {
   "cell_type": "code",
   "execution_count": 16,
   "id": "fabf485c",
   "metadata": {},
   "outputs": [
    {
     "name": "stdout",
     "output_type": "stream",
     "text": [
      "('Rock', 'draw')\n",
      "Rock\n",
      "4\n",
      "('Scissors', 'win')\n",
      "Rock\n",
      "7\n"
     ]
    }
   ],
   "source": [
    "round_choice = convert_to_RPS_outcome('A', 'Y')\n",
    "print(round_choice)\n",
    "\n",
    "print(get_you_choice(round_choice[0],round_choice[1]))\n",
    "print(calc_scores(choice_score(get_you_choice(round_choice[0],round_choice[1])),round_choice[1]))\n",
    "\n",
    "\n",
    "round_choice = convert_to_RPS_outcome('C', 'Z')\n",
    "print(round_choice)\n",
    "\n",
    "print(get_you_choice(round_choice[0],round_choice[1]))\n",
    "print(calc_scores(choice_score(get_you_choice(round_choice[0],round_choice[1])),round_choice[1]))"
   ]
  },
  {
   "cell_type": "code",
   "execution_count": 17,
   "id": "d4c33ade",
   "metadata": {},
   "outputs": [
    {
     "name": "stdout",
     "output_type": "stream",
     "text": [
      "12526\n"
     ]
    }
   ],
   "source": [
    "#iterate\n",
    "total_you = 0\n",
    "for index, row in df.iterrows():\n",
    "    #sum(map(int,row['arr'])) \n",
    "    round_choice = convert_to_RPS_outcome(row[0],row[1])\n",
    "    total_you = total_you+(calc_scores(choice_score(get_you_choice(round_choice[0],round_choice[1])),round_choice[1]))\n",
    "    \n",
    "print(total_you)"
   ]
  },
  {
   "cell_type": "code",
   "execution_count": null,
   "id": "81d211b9",
   "metadata": {},
   "outputs": [],
   "source": [
    "#dataframe\n",
    "df['sum']=df.apply(lambda row: sum(map(int,row['arr'])), axis=1)"
   ]
  },
  {
   "cell_type": "code",
   "execution_count": null,
   "id": "3c5d7c56",
   "metadata": {},
   "outputs": [],
   "source": [
    "df = df.sort_values(by=['sum'], ascending=False)\n"
   ]
  },
  {
   "cell_type": "code",
   "execution_count": null,
   "id": "845da386",
   "metadata": {},
   "outputs": [],
   "source": [
    "df['sum'].head(3).sum()"
   ]
  }
 ],
 "metadata": {
  "kernelspec": {
   "display_name": "Python 3 (ipykernel)",
   "language": "python",
   "name": "python3"
  },
  "language_info": {
   "codemirror_mode": {
    "name": "ipython",
    "version": 3
   },
   "file_extension": ".py",
   "mimetype": "text/x-python",
   "name": "python",
   "nbconvert_exporter": "python",
   "pygments_lexer": "ipython3",
   "version": "3.9.13"
  }
 },
 "nbformat": 4,
 "nbformat_minor": 5
}
