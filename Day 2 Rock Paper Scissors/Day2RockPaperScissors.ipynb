{
 "cells": [
  {
   "cell_type": "code",
   "execution_count": 24,
   "id": "490a280e",
   "metadata": {},
   "outputs": [
    {
     "data": {
      "text/html": [
       "<div>\n",
       "<style scoped>\n",
       "    .dataframe tbody tr th:only-of-type {\n",
       "        vertical-align: middle;\n",
       "    }\n",
       "\n",
       "    .dataframe tbody tr th {\n",
       "        vertical-align: top;\n",
       "    }\n",
       "\n",
       "    .dataframe thead th {\n",
       "        text-align: right;\n",
       "    }\n",
       "</style>\n",
       "<table border=\"1\" class=\"dataframe\">\n",
       "  <thead>\n",
       "    <tr style=\"text-align: right;\">\n",
       "      <th></th>\n",
       "      <th>0</th>\n",
       "      <th>1</th>\n",
       "    </tr>\n",
       "  </thead>\n",
       "  <tbody>\n",
       "    <tr>\n",
       "      <th>0</th>\n",
       "      <td>B</td>\n",
       "      <td>X</td>\n",
       "    </tr>\n",
       "    <tr>\n",
       "      <th>1</th>\n",
       "      <td>A</td>\n",
       "      <td>Z</td>\n",
       "    </tr>\n",
       "    <tr>\n",
       "      <th>2</th>\n",
       "      <td>A</td>\n",
       "      <td>Y</td>\n",
       "    </tr>\n",
       "    <tr>\n",
       "      <th>3</th>\n",
       "      <td>B</td>\n",
       "      <td>X</td>\n",
       "    </tr>\n",
       "    <tr>\n",
       "      <th>4</th>\n",
       "      <td>C</td>\n",
       "      <td>Z</td>\n",
       "    </tr>\n",
       "    <tr>\n",
       "      <th>...</th>\n",
       "      <td>...</td>\n",
       "      <td>...</td>\n",
       "    </tr>\n",
       "    <tr>\n",
       "      <th>2495</th>\n",
       "      <td>C</td>\n",
       "      <td>Y</td>\n",
       "    </tr>\n",
       "    <tr>\n",
       "      <th>2496</th>\n",
       "      <td>B</td>\n",
       "      <td>Y</td>\n",
       "    </tr>\n",
       "    <tr>\n",
       "      <th>2497</th>\n",
       "      <td>C</td>\n",
       "      <td>Y</td>\n",
       "    </tr>\n",
       "    <tr>\n",
       "      <th>2498</th>\n",
       "      <td>C</td>\n",
       "      <td>Y</td>\n",
       "    </tr>\n",
       "    <tr>\n",
       "      <th>2499</th>\n",
       "      <td>B</td>\n",
       "      <td>Y</td>\n",
       "    </tr>\n",
       "  </tbody>\n",
       "</table>\n",
       "<p>2500 rows × 2 columns</p>\n",
       "</div>"
      ],
      "text/plain": [
       "      0  1\n",
       "0     B  X\n",
       "1     A  Z\n",
       "2     A  Y\n",
       "3     B  X\n",
       "4     C  Z\n",
       "...  .. ..\n",
       "2495  C  Y\n",
       "2496  B  Y\n",
       "2497  C  Y\n",
       "2498  C  Y\n",
       "2499  B  Y\n",
       "\n",
       "[2500 rows x 2 columns]"
      ]
     },
     "execution_count": 24,
     "metadata": {},
     "output_type": "execute_result"
    }
   ],
   "source": [
    "import pandas as pd\n",
    "\n",
    "workdir = 'C:\\\\Users\\\\ed.deane\\\\OneDrive - Sabio Ltd\\\\Documents\\\\Customers\\\\IKEA\\\\Knowledge\\\\Python\\\\AdventOfCode\\\\Day 2 Rock Paper Scissors\\\\'\n",
    "\n",
    "df = pd.read_csv(workdir+'input.txt', sep=' ',header=None)\n"
   ]
  },
  {
   "cell_type": "code",
   "execution_count": 25,
   "id": "618ac318",
   "metadata": {},
   "outputs": [],
   "source": [
    "def convert_to_RPS(opponent, you):\n",
    "    #opponent A for Rock, B for Paper, and C for Scissors\n",
    "    opp_choice = {\n",
    "        'A': 'Rock',\n",
    "        'B': 'Paper',\n",
    "        'C': 'Scissors',\n",
    "    }[opponent]\n",
    "    \n",
    "    you_choice =  {\n",
    "        'X': 'Rock',\n",
    "        'Y': 'Paper',\n",
    "        'Z': 'Scissors',\n",
    "    }[you]\n",
    "    return (opp_choice,you_choice)\n",
    "\n",
    "def choice_score(x):\n",
    "    #1 for Rock, 2 for Paper, and 3 for Scissors\n",
    "    return {\n",
    "        'Rock': 1,\n",
    "        'Paper': 2,\n",
    "        'Scissors':3,\n",
    "    }[x]\n",
    "\n",
    "def outcome(opp_choice,you_choice):\n",
    "    if(opp_choice==you_choice):\n",
    "        ret = 'draw'\n",
    "    if(opp_choice=='Rock' and you_choice=='Paper'):\n",
    "        ret = 'you_win'\n",
    "    if(opp_choice=='Rock' and you_choice=='Scissors'):\n",
    "        ret = 'opp_win'\n",
    "    if(opp_choice=='Paper' and you_choice=='Rock'):\n",
    "        ret = 'opp_win'\n",
    "    if(opp_choice=='Paper' and you_choice=='Scissors'):\n",
    "        ret = 'you_win'\n",
    "    if(opp_choice=='Scissors' and you_choice=='Rock'):\n",
    "        ret = 'you_win'\n",
    "    if(opp_choice=='Scissors' and you_choice=='Paper'):\n",
    "        ret = 'opp_win'\n",
    "    return ret\n",
    "\n",
    "def calc_scores(choice_score, outcome):\n",
    "    return {\n",
    "        'opp_win': 0,\n",
    "        'draw': 3,\n",
    "        'you_win':6,\n",
    "    }[outcome]+choice_score"
   ]
  },
  {
   "cell_type": "code",
   "execution_count": 26,
   "id": "fabf485c",
   "metadata": {},
   "outputs": [
    {
     "name": "stdout",
     "output_type": "stream",
     "text": [
      "('Rock', 'Paper')\n",
      "1 2\n",
      "you_win\n",
      "8\n",
      "('Paper', 'Rock')\n",
      "1\n",
      "6\n"
     ]
    }
   ],
   "source": [
    "round_choice = convert_to_RPS('A', 'Y')\n",
    "print(round_choice)\n",
    "print(choice_score(round_choice[0]),choice_score(round_choice[1]))\n",
    "print(outcome(round_choice[0], round_choice[1]))\n",
    "\n",
    "print(calc_scores(choice_score(round_choice[1]),outcome(round_choice[0], round_choice[1])))\n",
    "\n",
    "\n",
    "round_choice = convert_to_RPS('B', 'X')\n",
    "print(round_choice)\n",
    "print(calc_scores(choice_score(round_choice[1]),outcome(round_choice[0], round_choice[1])))\n",
    "\n",
    "round_choice = convert_to_RPS('C', 'Z')\n",
    "print(calc_scores(choice_score(round_choice[1]),outcome(round_choice[0], round_choice[1])))"
   ]
  },
  {
   "cell_type": "code",
   "execution_count": 29,
   "id": "d4c33ade",
   "metadata": {},
   "outputs": [
    {
     "name": "stdout",
     "output_type": "stream",
     "text": [
      "10994\n"
     ]
    }
   ],
   "source": [
    "#iterate\n",
    "total_you = 0\n",
    "for index, row in df.iterrows():\n",
    "    #sum(map(int,row['arr'])) \n",
    "    round_choice = convert_to_RPS(row[0],row[1])\n",
    "    total_you = total_you+(calc_scores(choice_score(round_choice[1]),outcome(round_choice[0], round_choice[1])))\n",
    "    \n",
    "print(total_you)"
   ]
  },
  {
   "cell_type": "code",
   "execution_count": 142,
   "id": "81d211b9",
   "metadata": {},
   "outputs": [],
   "source": [
    "#dataframe\n",
    "df['sum']=df.apply(lambda row: sum(map(int,row['arr'])), axis=1)"
   ]
  },
  {
   "cell_type": "code",
   "execution_count": 149,
   "id": "3c5d7c56",
   "metadata": {},
   "outputs": [
    {
     "data": {
      "text/html": [
       "<div>\n",
       "<style scoped>\n",
       "    .dataframe tbody tr th:only-of-type {\n",
       "        vertical-align: middle;\n",
       "    }\n",
       "\n",
       "    .dataframe tbody tr th {\n",
       "        vertical-align: top;\n",
       "    }\n",
       "\n",
       "    .dataframe thead th {\n",
       "        text-align: right;\n",
       "    }\n",
       "</style>\n",
       "<table border=\"1\" class=\"dataframe\">\n",
       "  <thead>\n",
       "    <tr style=\"text-align: right;\">\n",
       "      <th></th>\n",
       "      <th>0</th>\n",
       "      <th>arr</th>\n",
       "      <th>sum</th>\n",
       "    </tr>\n",
       "  </thead>\n",
       "  <tbody>\n",
       "    <tr>\n",
       "      <th>224</th>\n",
       "      <td>12512,13741,6425,13234,10597,12414</td>\n",
       "      <td>[12512, 13741, 6425, 13234, 10597, 12414]</td>\n",
       "      <td>68923</td>\n",
       "    </tr>\n",
       "    <tr>\n",
       "      <th>118</th>\n",
       "      <td>67023</td>\n",
       "      <td>[67023]</td>\n",
       "      <td>67023</td>\n",
       "    </tr>\n",
       "    <tr>\n",
       "      <th>128</th>\n",
       "      <td>7435,6290,3249,9358,9196,8951,5023,4910,9686</td>\n",
       "      <td>[7435, 6290, 3249, 9358, 9196, 8951, 5023, 491...</td>\n",
       "      <td>64098</td>\n",
       "    </tr>\n",
       "  </tbody>\n",
       "</table>\n",
       "</div>"
      ],
      "text/plain": [
       "                                                0  \\\n",
       "224            12512,13741,6425,13234,10597,12414   \n",
       "118                                         67023   \n",
       "128  7435,6290,3249,9358,9196,8951,5023,4910,9686   \n",
       "\n",
       "                                                   arr    sum  \n",
       "224          [12512, 13741, 6425, 13234, 10597, 12414]  68923  \n",
       "118                                            [67023]  67023  \n",
       "128  [7435, 6290, 3249, 9358, 9196, 8951, 5023, 491...  64098  "
      ]
     },
     "execution_count": 149,
     "metadata": {},
     "output_type": "execute_result"
    }
   ],
   "source": [
    "df = df.sort_values(by=['sum'], ascending=False)\n"
   ]
  },
  {
   "cell_type": "code",
   "execution_count": 152,
   "id": "845da386",
   "metadata": {},
   "outputs": [
    {
     "data": {
      "text/plain": [
       "200044"
      ]
     },
     "execution_count": 152,
     "metadata": {},
     "output_type": "execute_result"
    }
   ],
   "source": [
    "df['sum'].head(3).sum()"
   ]
  }
 ],
 "metadata": {
  "kernelspec": {
   "display_name": "Python 3 (ipykernel)",
   "language": "python",
   "name": "python3"
  },
  "language_info": {
   "codemirror_mode": {
    "name": "ipython",
    "version": 3
   },
   "file_extension": ".py",
   "mimetype": "text/x-python",
   "name": "python",
   "nbconvert_exporter": "python",
   "pygments_lexer": "ipython3",
   "version": "3.9.13"
  }
 },
 "nbformat": 4,
 "nbformat_minor": 5
}
