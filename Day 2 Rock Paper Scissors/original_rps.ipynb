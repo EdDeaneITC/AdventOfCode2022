{
 "cells": [
  {
   "cell_type": "code",
   "execution_count": 13,
   "id": "3f500546",
   "metadata": {},
   "outputs": [],
   "source": [
    "import pandas as pd\n",
    "\n",
    "workdir = 'C:\\\\Users\\\\ed.deane\\\\Python\\\\AdventOfCode\\\\Day 2 Rock Paper Scissors\\\\'\n",
    "\n",
    "df= pd.read_csv(workdir+'input.txt', sep=' ',header=None, names=['elf','me'])"
   ]
  },
  {
   "cell_type": "code",
   "execution_count": 14,
   "id": "79574794",
   "metadata": {},
   "outputs": [],
   "source": [
    "def calc_total(elf,me):\n",
    "    #1 for Rock, 2 for Paper, and 3 for Scissors\n",
    "    if me == 'X':\n",
    "        me_val = 1\n",
    "    elif me == 'Y':\n",
    "        me_val = 2\n",
    "    else:\n",
    "        me_val = 3\n",
    "        \n",
    "    \n",
    "    return me_val+calc_winner(elf,me)\n",
    "\n",
    "def calc_winner(elf,me):\n",
    "    if (me == 'X' and elf == 'A') or (me == 'Y' and elf == 'B') or (me == 'Z' and elf == 'C'):\n",
    "        return 3\n",
    "    #rock vs paper or scissors vs rock = lose    \n",
    "    elif (me == 'X' and elf == 'B') or (me == 'Z' and elf == 'A') :\n",
    "        return 0\n",
    "    else:\n",
    "        return 6\n",
    "\n",
    "df['total']=df.apply(lambda row: calc_total(row['elf'],row['me']), axis=1)\n"
   ]
  },
  {
   "cell_type": "code",
   "execution_count": 15,
   "id": "ddfcf48b",
   "metadata": {},
   "outputs": [
    {
     "data": {
      "text/plain": [
       "13808"
      ]
     },
     "execution_count": 15,
     "metadata": {},
     "output_type": "execute_result"
    }
   ],
   "source": [
    "df['total'].sum()\n",
    "#elf scores 15193, 13808"
   ]
  },
  {
   "cell_type": "code",
   "execution_count": 16,
   "id": "82f32250",
   "metadata": {},
   "outputs": [
    {
     "data": {
      "text/html": [
       "<div>\n",
       "<style scoped>\n",
       "    .dataframe tbody tr th:only-of-type {\n",
       "        vertical-align: middle;\n",
       "    }\n",
       "\n",
       "    .dataframe tbody tr th {\n",
       "        vertical-align: top;\n",
       "    }\n",
       "\n",
       "    .dataframe thead th {\n",
       "        text-align: right;\n",
       "    }\n",
       "</style>\n",
       "<table border=\"1\" class=\"dataframe\">\n",
       "  <thead>\n",
       "    <tr style=\"text-align: right;\">\n",
       "      <th></th>\n",
       "      <th>elf</th>\n",
       "      <th>me</th>\n",
       "      <th>total</th>\n",
       "    </tr>\n",
       "  </thead>\n",
       "  <tbody>\n",
       "    <tr>\n",
       "      <th>0</th>\n",
       "      <td>B</td>\n",
       "      <td>X</td>\n",
       "      <td>1</td>\n",
       "    </tr>\n",
       "    <tr>\n",
       "      <th>1</th>\n",
       "      <td>A</td>\n",
       "      <td>Z</td>\n",
       "      <td>3</td>\n",
       "    </tr>\n",
       "    <tr>\n",
       "      <th>2</th>\n",
       "      <td>A</td>\n",
       "      <td>Y</td>\n",
       "      <td>8</td>\n",
       "    </tr>\n",
       "    <tr>\n",
       "      <th>3</th>\n",
       "      <td>B</td>\n",
       "      <td>X</td>\n",
       "      <td>1</td>\n",
       "    </tr>\n",
       "    <tr>\n",
       "      <th>4</th>\n",
       "      <td>C</td>\n",
       "      <td>Z</td>\n",
       "      <td>6</td>\n",
       "    </tr>\n",
       "    <tr>\n",
       "      <th>...</th>\n",
       "      <td>...</td>\n",
       "      <td>...</td>\n",
       "      <td>...</td>\n",
       "    </tr>\n",
       "    <tr>\n",
       "      <th>2495</th>\n",
       "      <td>C</td>\n",
       "      <td>Y</td>\n",
       "      <td>8</td>\n",
       "    </tr>\n",
       "    <tr>\n",
       "      <th>2496</th>\n",
       "      <td>B</td>\n",
       "      <td>Y</td>\n",
       "      <td>5</td>\n",
       "    </tr>\n",
       "    <tr>\n",
       "      <th>2497</th>\n",
       "      <td>C</td>\n",
       "      <td>Y</td>\n",
       "      <td>8</td>\n",
       "    </tr>\n",
       "    <tr>\n",
       "      <th>2498</th>\n",
       "      <td>C</td>\n",
       "      <td>Y</td>\n",
       "      <td>8</td>\n",
       "    </tr>\n",
       "    <tr>\n",
       "      <th>2499</th>\n",
       "      <td>B</td>\n",
       "      <td>Y</td>\n",
       "      <td>5</td>\n",
       "    </tr>\n",
       "  </tbody>\n",
       "</table>\n",
       "<p>2500 rows × 3 columns</p>\n",
       "</div>"
      ],
      "text/plain": [
       "     elf me  total\n",
       "0      B  X      1\n",
       "1      A  Z      3\n",
       "2      A  Y      8\n",
       "3      B  X      1\n",
       "4      C  Z      6\n",
       "...   .. ..    ...\n",
       "2495   C  Y      8\n",
       "2496   B  Y      5\n",
       "2497   C  Y      8\n",
       "2498   C  Y      8\n",
       "2499   B  Y      5\n",
       "\n",
       "[2500 rows x 3 columns]"
      ]
     },
     "execution_count": 16,
     "metadata": {},
     "output_type": "execute_result"
    }
   ],
   "source": [
    "df"
   ]
  }
 ],
 "metadata": {
  "kernelspec": {
   "display_name": "Python 3 (ipykernel)",
   "language": "python",
   "name": "python3"
  },
  "language_info": {
   "codemirror_mode": {
    "name": "ipython",
    "version": 3
   },
   "file_extension": ".py",
   "mimetype": "text/x-python",
   "name": "python",
   "nbconvert_exporter": "python",
   "pygments_lexer": "ipython3",
   "version": "3.9.7"
  }
 },
 "nbformat": 4,
 "nbformat_minor": 5
}
