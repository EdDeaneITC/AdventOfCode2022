{
 "cells": [
  {
   "cell_type": "code",
   "execution_count": 42,
   "id": "c41402ae",
   "metadata": {},
   "outputs": [],
   "source": [
    "import pandas as pd\n",
    "import math\n",
    "\n",
    "workdir = 'C:\\\\Users\\\\ed.deane\\\\OneDrive - Sabio Ltd\\\\Documents\\\\Customers\\\\IKEA\\\\Knowledge\\\\Python\\\\AdventOfCode\\\\Day 3 Rucksack Reorganization\\\\'\n",
    "\n",
    "df = pd.read_csv(workdir+'input.txt', sep=' ',header=None)\n",
    "\n",
    "df.rename(columns={0:\"input\"}, inplace=True)\n",
    "\n",
    "matched_char = []\n",
    "\n",
    "def identify_match(text1, text2, text3):\n",
    "    # loop through each letter and compare\n",
    "    #ret = \"\"\n",
    "    for x in text1:\n",
    "        for y in text2:\n",
    "            if x == y:\n",
    "                for z in text3:\n",
    "                    if x == z:\n",
    "                        return (ord(x)- (96 if(ord(x) > 96) else 38))\n",
    "    \n",
    "\n",
    "# loop through each group of three from the df, i.e. range of 0 to index max/3\n",
    "for i in range(0,int(len(df)/3)):\n",
    "    matched_char.append(identify_match(df.iloc[i*3][\"input\"], df.iloc[i*3+1][\"input\"],df.iloc[i*3+2][\"input\"]))"
   ]
  },
  {
   "cell_type": "code",
   "execution_count": 45,
   "id": "b855bb5d",
   "metadata": {},
   "outputs": [
    {
     "data": {
      "text/plain": [
       "2479"
      ]
     },
     "execution_count": 45,
     "metadata": {},
     "output_type": "execute_result"
    }
   ],
   "source": [
    "sum(matched_char)"
   ]
  }
 ],
 "metadata": {
  "kernelspec": {
   "display_name": "Python 3 (ipykernel)",
   "language": "python",
   "name": "python3"
  },
  "language_info": {
   "codemirror_mode": {
    "name": "ipython",
    "version": 3
   },
   "file_extension": ".py",
   "mimetype": "text/x-python",
   "name": "python",
   "nbconvert_exporter": "python",
   "pygments_lexer": "ipython3",
   "version": "3.9.13"
  }
 },
 "nbformat": 4,
 "nbformat_minor": 5
}
