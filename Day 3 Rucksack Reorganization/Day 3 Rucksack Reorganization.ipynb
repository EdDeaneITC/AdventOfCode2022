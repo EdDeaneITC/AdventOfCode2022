{
 "cells": [
  {
   "cell_type": "code",
   "execution_count": 18,
   "id": "c41402ae",
   "metadata": {},
   "outputs": [],
   "source": [
    "import pandas as pd\n",
    "import math\n",
    "\n",
    "workdir = 'C:\\\\Users\\\\ed.deane\\\\OneDrive - Sabio Ltd\\\\Documents\\\\Customers\\\\IKEA\\\\Knowledge\\\\Python\\\\AdventOfCode\\\\Day 3 Rucksack Reorganization\\\\'\n",
    "\n",
    "df = pd.read_csv(workdir+'input.txt', sep=' ',header=None)\n",
    "\n",
    "df.rename(columns={0:\"input\"}, inplace=True)\n",
    "\n",
    "def get_first_half(txt, length):\n",
    "    return txt[:int(length/2)]\n",
    "\n",
    "def get_second_half(txt, length):\n",
    "    return txt[int(length/2):length]\n",
    "\n",
    "def identify_duplicates(text1, text2):\n",
    "    # loop through each letter and compare\n",
    "    matching = []\n",
    "    for x in text1:\n",
    "        for y in text2:\n",
    "            if x == y:\n",
    "                matching.append(ord(x)- (96 if(ord(x) > 96) else 38))\n",
    "    return list(set(matching))[0]\n",
    "\n",
    "df['first_half'] = (df.apply(lambda x: get_first_half(x[\"input\"], len(x['input'])), axis=1))\n",
    "df['second_half'] = (df.apply(lambda x: get_second_half(x[\"input\"],len(x['input'])), axis=1))\n",
    "\n",
    "df['matching'] = (df.apply(lambda x: identify_duplicates(x[\"first_half\"],x['second_half']), axis=1))\n"
   ]
  },
  {
   "cell_type": "code",
   "execution_count": 19,
   "id": "b855bb5d",
   "metadata": {},
   "outputs": [
    {
     "name": "stdout",
     "output_type": "stream",
     "text": [
      "7875\n"
     ]
    }
   ],
   "source": [
    "print (df['matching'].sum())"
   ]
  },
  {
   "cell_type": "code",
   "execution_count": 27,
   "id": "03b6e47c",
   "metadata": {},
   "outputs": [
    {
     "name": "stdout",
     "output_type": "stream",
     "text": [
      "0    p\n",
      "1    L\n",
      "2    P\n",
      "3    v\n",
      "4    t\n",
      "5    s\n",
      "Name: matching, dtype: object\n"
     ]
    }
   ],
   "source": [
    "print (df['matching'])"
   ]
  }
 ],
 "metadata": {
  "kernelspec": {
   "display_name": "Python 3 (ipykernel)",
   "language": "python",
   "name": "python3"
  },
  "language_info": {
   "codemirror_mode": {
    "name": "ipython",
    "version": 3
   },
   "file_extension": ".py",
   "mimetype": "text/x-python",
   "name": "python",
   "nbconvert_exporter": "python",
   "pygments_lexer": "ipython3",
   "version": "3.9.13"
  }
 },
 "nbformat": 4,
 "nbformat_minor": 5
}
