{
 "cells": [
  {
   "cell_type": "code",
   "execution_count": 17,
   "id": "5b6862fa",
   "metadata": {},
   "outputs": [
    {
     "data": {
      "text/plain": [
       "{1: ['move', 'move', 'move', 'move'],\n",
       " 2: ['1', '2', '3', '1'],\n",
       " 3: ['from', 'from', 'from', 'from'],\n",
       " 4: ['1', '2', '1', '2'],\n",
       " 5: ['to', 'to', 'to', 'to'],\n",
       " 6: ['2', '1', '3', '1'],\n",
       " 7: [],\n",
       " 8: [],\n",
       " 9: []}"
      ]
     },
     "execution_count": 17,
     "metadata": {},
     "output_type": "execute_result"
    }
   ],
   "source": [
    "import pandas as pd\n",
    "\n",
    "workdir = 'C:\\\\Users\\\\ed.deane\\\\Python\\\\AdventOfCode\\\\Day 5 Supply Stacks\\\\'\n",
    "\n",
    "df= pd.read_csv(workdir+'test_input.txt', header=None)\n",
    "\n",
    "#initialise each stack\n",
    "stacks={}\n",
    "# stacks = {1:['Z', 'N'], 2 : ['M', 'C','D'], 3 : ['P']}\n",
    "for i in range (9):\n",
    "    stacks[i+1]=[]\n",
    "# For each line of the file, create a column representing the x axis and index the y\n",
    "for index, row in df.iterrows():\n",
    "    if (row[0].replace(' ','').isdigit()):\n",
    "        break\n",
    "    k=1\n",
    "    for j in row[0].replace('[','').replace(']','').replace('    ',' ').split(' '):\n",
    "        if len(j)> 0:\n",
    "            stacks[k].insert(0,j)\n",
    "        k+=1\n",
    "stacks"
   ]
  },
  {
   "cell_type": "code",
   "execution_count": 18,
   "id": "1bf9effc",
   "metadata": {},
   "outputs": [],
   "source": [
    "stacks = {1:['Z', 'N'], 2 : ['M', 'C','D'], 3 : ['P']}"
   ]
  },
  {
   "cell_type": "code",
   "execution_count": 14,
   "id": "4d69a8eb",
   "metadata": {},
   "outputs": [],
   "source": [
    "df= df[df[0].str.contains('move')]\n",
    "\n",
    "# For each line of the file, create a column representing the x axis and index the y\n",
    "for index, row in df.iterrows():\n",
    "    cmd = row[0].split()\n",
    "    for j in range (int(cmd[1])):\n",
    "        i = stacks[int(cmd[3])].pop()\n",
    "        stacks[int(cmd[5])].append(i)\n",
    "        "
   ]
  },
  {
   "cell_type": "code",
   "execution_count": 16,
   "id": "8f5e8fbe",
   "metadata": {},
   "outputs": [
    {
     "name": "stdout",
     "output_type": "stream",
     "text": [
      "W\n",
      "C\n",
      "Z\n",
      "T\n",
      "H\n",
      "T\n",
      "M\n",
      "P\n",
      "S\n"
     ]
    }
   ],
   "source": [
    "for k in stacks:\n",
    "    print (stacks[k].pop())"
   ]
  },
  {
   "cell_type": "code",
   "execution_count": 15,
   "id": "79f7a6b0",
   "metadata": {},
   "outputs": [
    {
     "data": {
      "text/html": [
       "<div>\n",
       "<style scoped>\n",
       "    .dataframe tbody tr th:only-of-type {\n",
       "        vertical-align: middle;\n",
       "    }\n",
       "\n",
       "    .dataframe tbody tr th {\n",
       "        vertical-align: top;\n",
       "    }\n",
       "\n",
       "    .dataframe thead th {\n",
       "        text-align: right;\n",
       "    }\n",
       "</style>\n",
       "<table border=\"1\" class=\"dataframe\">\n",
       "  <thead>\n",
       "    <tr style=\"text-align: right;\">\n",
       "      <th></th>\n",
       "      <th>0</th>\n",
       "    </tr>\n",
       "  </thead>\n",
       "  <tbody>\n",
       "    <tr>\n",
       "      <th>9</th>\n",
       "      <td>move 3 from 5 to 2</td>\n",
       "    </tr>\n",
       "    <tr>\n",
       "      <th>10</th>\n",
       "      <td>move 3 from 8 to 4</td>\n",
       "    </tr>\n",
       "    <tr>\n",
       "      <th>11</th>\n",
       "      <td>move 7 from 7 to 3</td>\n",
       "    </tr>\n",
       "    <tr>\n",
       "      <th>12</th>\n",
       "      <td>move 14 from 3 to 9</td>\n",
       "    </tr>\n",
       "    <tr>\n",
       "      <th>13</th>\n",
       "      <td>move 8 from 4 to 1</td>\n",
       "    </tr>\n",
       "    <tr>\n",
       "      <th>...</th>\n",
       "      <td>...</td>\n",
       "    </tr>\n",
       "    <tr>\n",
       "      <th>506</th>\n",
       "      <td>move 7 from 1 to 8</td>\n",
       "    </tr>\n",
       "    <tr>\n",
       "      <th>507</th>\n",
       "      <td>move 1 from 3 to 6</td>\n",
       "    </tr>\n",
       "    <tr>\n",
       "      <th>508</th>\n",
       "      <td>move 4 from 5 to 4</td>\n",
       "    </tr>\n",
       "    <tr>\n",
       "      <th>509</th>\n",
       "      <td>move 1 from 5 to 2</td>\n",
       "    </tr>\n",
       "    <tr>\n",
       "      <th>510</th>\n",
       "      <td>move 8 from 4 to 9</td>\n",
       "    </tr>\n",
       "  </tbody>\n",
       "</table>\n",
       "<p>502 rows × 1 columns</p>\n",
       "</div>"
      ],
      "text/plain": [
       "                       0\n",
       "9     move 3 from 5 to 2\n",
       "10    move 3 from 8 to 4\n",
       "11    move 7 from 7 to 3\n",
       "12   move 14 from 3 to 9\n",
       "13    move 8 from 4 to 1\n",
       "..                   ...\n",
       "506   move 7 from 1 to 8\n",
       "507   move 1 from 3 to 6\n",
       "508   move 4 from 5 to 4\n",
       "509   move 1 from 5 to 2\n",
       "510   move 8 from 4 to 9\n",
       "\n",
       "[502 rows x 1 columns]"
      ]
     },
     "execution_count": 15,
     "metadata": {},
     "output_type": "execute_result"
    }
   ],
   "source": [
    "df"
   ]
  }
 ],
 "metadata": {
  "kernelspec": {
   "display_name": "Python 3 (ipykernel)",
   "language": "python",
   "name": "python3"
  },
  "language_info": {
   "codemirror_mode": {
    "name": "ipython",
    "version": 3
   },
   "file_extension": ".py",
   "mimetype": "text/x-python",
   "name": "python",
   "nbconvert_exporter": "python",
   "pygments_lexer": "ipython3",
   "version": "3.9.13"
  }
 },
 "nbformat": 4,
 "nbformat_minor": 5
}
