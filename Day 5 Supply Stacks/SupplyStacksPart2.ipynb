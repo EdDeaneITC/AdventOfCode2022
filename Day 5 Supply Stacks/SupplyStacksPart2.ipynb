{
 "cells": [
  {
   "cell_type": "code",
   "execution_count": 63,
   "id": "7aba703f",
   "metadata": {},
   "outputs": [
    {
     "data": {
      "text/plain": [
       "{1: ['G', 'D', 'V', 'Z', 'J', 'S', 'B'],\n",
       " 2: ['Z', 'S', 'M', 'G', 'V', 'P'],\n",
       " 3: ['C', 'L', 'B', 'S', 'W', 'T', 'Q', 'F'],\n",
       " 4: ['H', 'J', 'G', 'W', 'M', 'R', 'V', 'Q'],\n",
       " 5: ['C', 'L', 'S', 'N', 'F', 'M', 'D'],\n",
       " 6: ['R', 'G', 'C', 'D'],\n",
       " 7: ['H', 'G', 'T', 'R', 'J', 'D', 'S', 'Q'],\n",
       " 8: ['P', 'F', 'V'],\n",
       " 9: ['D', 'R', 'S', 'T', 'J']}"
      ]
     },
     "execution_count": 63,
     "metadata": {},
     "output_type": "execute_result"
    }
   ],
   "source": [
    "import pandas as pd\n",
    "\n",
    "workdir = 'C:\\\\Users\\\\ed.deane\\\\Python\\\\AdventOfCode\\\\Day 5 Supply Stacks\\\\'\n",
    "\n",
    "df= pd.read_csv(workdir+'input.txt', header=None)\n",
    "\n",
    "#initialise each stack\n",
    "stacks={}\n",
    "# stacks = {1:['Z', 'N'], 2 : ['M', 'C','D'], 3 : ['P']}\n",
    "for i in range (9):\n",
    "    stacks[i+1]=[]\n",
    "# For each line of the file, create a column representing the x axis and index the y\n",
    "for index, row in df.iterrows():\n",
    "    if (row[0].replace(' ','').isdigit()):\n",
    "        break\n",
    "    k=1\n",
    "    for j in row[0].replace('[','').replace(']','').replace('    ',' ').split(' '):\n",
    "        if len(j)> 0:\n",
    "            stacks[k].insert(0,j)\n",
    "        k+=1\n",
    "stacks"
   ]
  },
  {
   "cell_type": "code",
   "execution_count": 64,
   "id": "4ef6cdd1",
   "metadata": {},
   "outputs": [],
   "source": [
    "df= df[df[0].str.contains('move')]\n",
    "\n",
    "# For each line of the file, create a column representing the x axis and index the y\n",
    "for index, row in df.iterrows():\n",
    "    cmd = row[0].split()\n",
    "    lst=[]\n",
    "    for j in range (int(cmd[1])):\n",
    "        i = stacks[int(cmd[3])].pop()\n",
    "        lst.append(i)\n",
    "    lst.reverse()\n",
    "    for k in lst:\n",
    "        stacks[int(cmd[5])].append(k)\n"
   ]
  },
  {
   "cell_type": "code",
   "execution_count": 65,
   "id": "f1f1ad8c",
   "metadata": {},
   "outputs": [
    {
     "data": {
      "text/plain": [
       "{1: ['D', 'F', 'M', 'L', 'V', 'C', 'C', 'B'],\n",
       " 2: ['L'],\n",
       " 3: ['S'],\n",
       " 4: ['B', 'N', 'V', 'P', 'S', 'R', 'G'],\n",
       " 5: ['J'],\n",
       " 6: ['S'],\n",
       " 7: ['G',\n",
       "  'V',\n",
       "  'R',\n",
       "  'Q',\n",
       "  'R',\n",
       "  'C',\n",
       "  'M',\n",
       "  'G',\n",
       "  'T',\n",
       "  'D',\n",
       "  'T',\n",
       "  'J',\n",
       "  'W',\n",
       "  'Q',\n",
       "  'H',\n",
       "  'H',\n",
       "  'J',\n",
       "  'R',\n",
       "  'J',\n",
       "  'Z',\n",
       "  'D',\n",
       "  'D'],\n",
       " 8: ['F', 'W', 'V', 'Z', 'P', 'G', 'T'],\n",
       " 9: ['D', 'Q', 'M', 'S', 'G', 'F', 'S', 'S']}"
      ]
     },
     "execution_count": 65,
     "metadata": {},
     "output_type": "execute_result"
    }
   ],
   "source": [
    "stacks"
   ]
  },
  {
   "cell_type": "code",
   "execution_count": 66,
   "id": "a04744d0",
   "metadata": {},
   "outputs": [
    {
     "data": {
      "text/plain": [
       "'BLSGJSDTS'"
      ]
     },
     "execution_count": 66,
     "metadata": {},
     "output_type": "execute_result"
    }
   ],
   "source": [
    "l=''\n",
    "for k in stacks:\n",
    "    l=l+stacks[k].pop()\n",
    "l"
   ]
  },
  {
   "cell_type": "code",
   "execution_count": 38,
   "id": "9102fc9c",
   "metadata": {},
   "outputs": [
    {
     "data": {
      "text/plain": [
       "{1: ['Z', 'N', 8, ['A']],\n",
       " 2: ['M', 'C', 'D'],\n",
       " 3: ['P'],\n",
       " 4: [],\n",
       " 5: [],\n",
       " 6: [],\n",
       " 7: [],\n",
       " 8: [],\n",
       " 9: []}"
      ]
     },
     "execution_count": 38,
     "metadata": {},
     "output_type": "execute_result"
    }
   ],
   "source": [
    "lst = ['A']\n",
    "stacks[int(1)].append(lst)\n",
    "stacks"
   ]
  }
 ],
 "metadata": {
  "kernelspec": {
   "display_name": "Python 3 (ipykernel)",
   "language": "python",
   "name": "python3"
  },
  "language_info": {
   "codemirror_mode": {
    "name": "ipython",
    "version": 3
   },
   "file_extension": ".py",
   "mimetype": "text/x-python",
   "name": "python",
   "nbconvert_exporter": "python",
   "pygments_lexer": "ipython3",
   "version": "3.9.7"
  }
 },
 "nbformat": 4,
 "nbformat_minor": 5
}
