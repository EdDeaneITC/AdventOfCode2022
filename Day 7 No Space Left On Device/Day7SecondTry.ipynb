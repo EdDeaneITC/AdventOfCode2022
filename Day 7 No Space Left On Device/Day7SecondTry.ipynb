{
 "cells": [
  {
   "cell_type": "code",
   "execution_count": 39,
   "id": "439dd128",
   "metadata": {},
   "outputs": [
    {
     "data": {
      "text/plain": [
       "'{\"/\": {\"name\": \"/\", \"files\": {\"pjts.dzh\": 55644}}, \"/cmwrq/\": {\"name\": \"/cmwrq/\", \"parent\": \"/\", \"files\": {\"rvs\": 16144, \"swngfrsj.pcj\": 50956}}, \"/ftrccld/\": {\"name\": \"/ftrccld/\", \"parent\": \"/\", \"files\": {\"jngjc.mpd\": 22306, \"lnr.jhn\": 190320, \"nztw\": 295676, \"nztw.ssc\": 135025, \"ssdlqcrw.jnm\": 247764}}, \"/jjlbmtw/\": {\"name\": \"/jjlbmtw/\", \"parent\": \"/\", \"files\": {\"ctfhmm.ssv\": 211239, \"nztw\": 230020, \"sqtjn\": 109641}}, \"/jpncfpb/\": {\"name\": \"/jpncfpb/\", \"parent\": \"/\", \"files\": {\"pcffhsw.bdm\": 286054, \"pvczm.cfw\": 260831}}, \"/mddr/\": {\"name\": \"/mddr/\", \"parent\": \"/\", \"files\": {}}, \"/mthvntdd/\": {\"name\": \"/mthvntdd/\", \"parent\": \"/\", \"files\": {\"cwtvl\": 62389, \"pvczm.cfw\": 6743}}, \"/ptzsl/\": {\"name\": \"/ptzsl/\", \"parent\": \"/\", \"files\": {\"jnsdzmbd\": 26404}}, \"/wmqc/\": {\"name\": \"/wmqc/\", \"parent\": \"/\", \"files\": {}}, \"/cmwrq/dtbzzl/\": {\"name\": \"/cmwrq/dtbzzl/\", \"parent\": \"/cmwrq/\", \"files\": {\"ljhpmvd.zqf\": 42503}}, \"/cmwrq/pjnghbm/\": {\"name\": \"/cmwrq/pjnghbm/\", \"parent\": \"/cmwrq/\", \"files\": {\"ctqfg.ljd\": 189296, \"ssdlqcrw.lgv\": 205394}}, \"/cmwrq/vhvn/\": {\"name\": \"/cmwrq/vhvn/\", \"parent\": \"/cmwrq/\", \"files\": {\"vqfsh.smp\": 187526}}, \"/cmwrq/vrt/\": {\"name\": \"/cmwrq/vrt/\", \"parent\": \"/cmwrq/\", \"files\": {\"nztw.mfg\": 270995, \"vqfsh.smp\": 137476}}, \"/cmwrq/zgrjmtcq/\": {\"name\": \"/cmwrq/zgrjmtcq/\", \"parent\": \"/cmwrq/\", \"files\": {\"vhvn\": 109025}}, \"/cmwrq/dtbzzl/wwpnn/\": {\"name\": \"/cmwrq/dtbzzl/wwpnn/\", \"parent\": \"/cmwrq/dtbzzl/\", \"files\": {\"jjdgzwnq\": 58541, \"sqqpcvq.llm\": 101609}}, \"/cmwrq/dtbzzl/wwpnn/lwqgsbg/\": {\"name\": \"/cmwrq/dtbzzl/wwpnn/lwqgsbg/\", \"parent\": \"/cmwrq/dtbzzl/wwpnn/\", \"files\": {\"cpqhb.jsf\": 207528, \"cqjgspw\": 38543, \"dtbzzl.njz\": 106337, \"pdv.ppg\": 302201, \"pvczm.cfw\": 175215}}, \"/cmwrq/dtbzzl/wwpnn/nztw/\": {\"name\": \"/cmwrq/dtbzzl/wwpnn/nztw/\", \"parent\": \"/cmwrq/dtbzzl/wwpnn/\", \"files\": {\"vqfsh.smp\": 30777}}, \"/cmwrq/dtbzzl/wwpnn/rdtjztmt/\": {\"name\": \"/cmwrq/dtbzzl/wwpnn/rdtjztmt/\", \"parent\": \"/cmwrq/dtbzzl/wwpnn/\", \"files\": {\"pvczm.cfw\": 276602, \"ssdlqcrw.dgb\": 305089}}, \"/cmwrq/dtbzzl/wwpnn/ssdlqcrw/\": {\"name\": \"/cmwrq/dtbzzl/wwpnn/ssdlqcrw/\", \"parent\": \"/cmwrq/dtbzzl/wwpnn/\", \"files\": {\"vqfsh.smp\": 22423}}, \"/cmwrq/dtbzzl/wwpnn/lwqgsbg/dtbzzl/\": {\"name\": \"/cmwrq/dtbzzl/wwpnn/lwqgsbg/dtbzzl/\", \"parent\": \"/cmwrq/dtbzzl/wwpnn/lwqgsbg/\", \"files\": {\"vhvn.zqv\": 252091}}, \"/cmwrq/dtbzzl/wwpnn/lwqgsbg/pjts/\": {\"name\": \"/cmwrq/dtbzzl/wwpnn/lwqgsbg/pjts/\", \"parent\": \"/cmwrq/dtbzzl/wwpnn/lwqgsbg/\", \"files\": {\"bdbfjbgt.rwg\": 155681, \"dtcz.gqt\": 219192}}, \"/cmwrq/dtbzzl/wwpnn/lwqgsbg/sbvljdh/\": {\"name\": \"/cmwrq/dtbzzl/wwpnn/lwqgsbg/sbvljdh/\", \"parent\": \"/cmwrq/dtbzzl/wwpnn/lwqgsbg/\", \"files\": {}}, \"/cmwrq/dtbzzl/wwpnn/lwqgsbg/sbvljdh/rdrqc/\": {\"name\": \"/cmwrq/dtbzzl/wwpnn/lwqgsbg/sbvljdh/rdrqc/\", \"parent\": \"/cmwrq/dtbzzl/wwpnn/lwqgsbg/sbvljdh/\", \"files\": {\"pjts.mbt\": 242263}}, \"/cmwrq/dtbzzl/wwpnn/lwqgsbg/sbvljdh/rtfpcswj/\": {\"name\": \"/cmwrq/dtbzzl/wwpnn/lwqgsbg/sbvljdh/rtfpcswj/\", \"parent\": \"/cmwrq/dtbzzl/wwpnn/lwqgsbg/sbvljdh/\", \"files\": {\"ssgcjt.twr\": 228044}}, \"/cmwrq/dtbzzl/wwpnn/rdtjztmt/rzbb/\": {\"name\": \"/cmwrq/dtbzzl/wwpnn/rdtjztmt/rzbb/\", \"parent\": \"/cmwrq/dtbzzl/wwpnn/rdtjztmt/\", \"files\": {\"pvczm.cfw\": 155253}}, \"/cmwrq/pjnghbm/dtbzzl/\": {\"name\": \"/cmwrq/pjnghbm/dtbzzl/\", \"parent\": \"/cmwrq/pjnghbm/\", \"files\": {\"fbb.gtn\": 239152, \"hsnbffzf.qvc\": 39308, \"nhm.zhz\": 211316, \"twjq\": 230237}}, \"/cmwrq/pjnghbm/pjts/\": {\"name\": \"/cmwrq/pjnghbm/pjts/\", \"parent\": \"/cmwrq/pjnghbm/\", \"files\": {\"vqfsh.smp\": 259357}}, \"/cmwrq/pjnghbm/dtbzzl/hlw/\": {\"name\": \"/cmwrq/pjnghbm/dtbzzl/hlw/\", \"parent\": \"/cmwrq/pjnghbm/dtbzzl/\", \"files\": {}}, \"/cmwrq/pjnghbm/dtbzzl/nztw/\": {\"name\": \"/cmwrq/pjnghbm/dtbzzl/nztw/\", \"parent\": \"/cmwrq/pjnghbm/dtbzzl/\", \"files\": {\"dtbzzl.grj\": 280535, \"ssdlqcrw.tqs\": 269725}}, \"/cmwrq/pjnghbm/dtbzzl/pvsjpn/\": {\"name\": \"/cmwrq/pjnghbm/dtbzzl/pvsjpn/\", \"parent\": \"/cmwrq/pjnghbm/dtbzzl/\", \"files\": {\"jvjb.mdd\": 105150, \"nztw.cvp\": 142501}}, \"/cmwrq/pjnghbm/dtbzzl/hlw/lfqqrp/\": {\"name\": \"/cmwrq/pjnghbm/dtbzzl/hlw/lfqqrp/\", \"parent\": \"/cmwrq/pjnghbm/dtbzzl/hlw/\", \"files\": {}}, \"/cmwrq/pjnghbm/dtbzzl/hlw/nztw/\": {\"name\": \"/cmwrq/pjnghbm/dtbzzl/hlw/nztw/\", \"parent\": \"/cmwrq/pjnghbm/dtbzzl/hlw/\", \"files\": {\"nwt\": 313009}}, \"/cmwrq/pjnghbm/dtbzzl/hlw/lfqqrp/mbmfpz/\": {\"name\": \"/cmwrq/pjnghbm/dtbzzl/hlw/lfqqrp/mbmfpz/\", \"parent\": \"/cmwrq/pjnghbm/dtbzzl/hlw/lfqqrp/\", \"files\": {}}, \"/cmwrq/pjnghbm/dtbzzl/hlw/lfqqrp/mdhfdlw/\": {\"name\": \"/cmwrq/pjnghbm/dtbzzl/hlw/lfqqrp/mdhfdlw/\", \"parent\": \"/cmwrq/pjnghbm/dtbzzl/hlw/lfqqrp/\", \"files\": {\"dtbzzl.jmq\": 92462, \"tczcgf.zwj\": 239442}}, \"/cmwrq/pjnghbm/dtbzzl/hlw/lfqqrp/pjts/\": {\"name\": \"/cmwrq/pjnghbm/dtbzzl/hlw/lfqqrp/pjts/\", \"parent\": \"/cmwrq/pjnghbm/dtbzzl/hlw/lfqqrp/\", \"files\": {\"dtbzzl.lnz\": 144464, \"swgt.smz\": 118500}}, \"/cmwrq/pjnghbm/dtbzzl/hlw/lfqqrp/qzs/\": {\"name\": \"/cmwrq/pjnghbm/dtbzzl/hlw/lfqqrp/qzs/\", \"parent\": \"/cmwrq/pjnghbm/dtbzzl/hlw/lfqqrp/\", \"files\": {\"cpqhb.jsf\": 11155}}, \"/cmwrq/pjnghbm/dtbzzl/hlw/lfqqrp/ssdlqcrw/\": {\"name\": \"/cmwrq/pjnghbm/dtbzzl/hlw/lfqqrp/ssdlqcrw/\", \"parent\": \"/cmwrq/pjnghbm/dtbzzl/hlw/lfqqrp/\", \"files\": {\"gcwqcwrf.vmb\": 192414}}, \"/cmwrq/pjnghbm/dtbzzl/hlw/lfqqrp/mbmfpz/fsrbwl/\": {\"name\": \"/cmwrq/pjnghbm/dtbzzl/hlw/lfqqrp/mbmfpz/fsrbwl/\", \"parent\": \"/cmwrq/pjnghbm/dtbzzl/hlw/lfqqrp/mbmfpz/\", \"files\": {\"ftlc.zbr\": 154657, \"pvczm.cfw\": 228929, \"tdl\": 234216}}, \"/cmwrq/pjnghbm/dtbzzl/hlw/lfqqrp/mbmfpz/lsmpw/\": {\"name\": \"/cmwrq/pjnghbm/dtbzzl/hlw/lfqqrp/mbmfpz/lsmpw/\", \"parent\": \"/cmwrq/pjnghbm/dtbzzl/hlw/lfqqrp/mbmfpz/\", \"files\": {\"dtbzzl.dgj\": 61867}}, \"/cmwrq/pjnghbm/dtbzzl/hlw/lfqqrp/mbmfpz/fsrbwl/ltsj/\": {\"name\": \"/cmwrq/pjnghbm/dtbzzl/hlw/lfqqrp/mbmfpz/fsrbwl/ltsj/\", \"parent\": \"/cmwrq/pjnghbm/dtbzzl/hlw/lfqqrp/mbmfpz/fsrbwl/\", \"files\": {\"vmq.sjg\": 51204}}, \"/cmwrq/pjnghbm/dtbzzl/hlw/lfqqrp/mbmfpz/fsrbwl/ssdlqcrw/\": {\"name\": \"/cmwrq/pjnghbm/dtbzzl/hlw/lfqqrp/mbmfpz/fsrbwl/ssdlqcrw/\", \"parent\": \"/cmwrq/pjnghbm/dtbzzl/hlw/lfqqrp/mbmfpz/fsrbwl/\", \"files\": {\"nztw.gpn\": 64928}}, \"/cmwrq/pjnghbm/dtbzzl/hlw/lfqqrp/pjts/pjts/\": {\"name\": \"/cmwrq/pjnghbm/dtbzzl/hlw/lfqqrp/pjts/pjts/\", \"parent\": \"/cmwrq/pjnghbm/dtbzzl/hlw/lfqqrp/pjts/\", \"files\": {\"dvztnn\": 173783, \"jlv.pgh\": 103088, \"nhm.zhz\": 39332, \"pppfcg\": 266947}}, \"/cmwrq/pjnghbm/pjts/btc/\": {\"name\": \"/cmwrq/pjnghbm/pjts/btc/\", \"parent\": \"/cmwrq/pjnghbm/pjts/\", \"files\": {\"gdjpql.wqr\": 5264}}, \"/cmwrq/pjnghbm/pjts/tpwcmvch/\": {\"name\": \"/cmwrq/pjnghbm/pjts/tpwcmvch/\", \"parent\": \"/cmwrq/pjnghbm/pjts/\", \"files\": {\"jjdgzwnq\": 141657, \"nhm.zhz\": 15650, \"qgf.qgj\": 182100, \"qshf\": 302332, \"vhvn\": 244799}}, \"/cmwrq/pjnghbm/pjts/tpwcmvch/nlrq/\": {\"name\": \"/cmwrq/pjnghbm/pjts/tpwcmvch/nlrq/\", \"parent\": \"/cmwrq/pjnghbm/pjts/tpwcmvch/\", \"files\": {\"gnd.vmb\": 207207}}, \"/cmwrq/pjnghbm/pjts/tpwcmvch/wvnqzjf/\": {\"name\": \"/cmwrq/pjnghbm/pjts/tpwcmvch/wvnqzjf/\", \"parent\": \"/cmwrq/pjnghbm/pjts/tpwcmvch/\", \"files\": {\"mtzc.rqb\": 64128}}, \"/cmwrq/pjnghbm/pjts/tpwcmvch/nlrq/dtbzzl/\": {\"name\": \"/cmwrq/pjnghbm/pjts/tpwcmvch/nlrq/dtbzzl/\", \"parent\": \"/cmwrq/pjnghbm/pjts/tpwcmvch/nlrq/\", \"files\": {\"wjbzmc\": 271143}}, \"/cmwrq/vrt/drrnm/\": {\"name\": \"/cmwrq/vrt/drrnm/\", \"parent\": \"/cmwrq/vrt/\", \"files\": {\"pvczm.cfw\": 250912}}, \"/cmwrq/vrt/fqr/\": {\"name\": \"/cmwrq/vrt/fqr/\", \"parent\": \"/cmwrq/vrt/\", \"files\": {\"nszfcq\": 229272, \"phh.pdl\": 170643}}, \"/cmwrq/vrt/fqr/nztw/\": {\"name\": \"/cmwrq/vrt/fqr/nztw/\", \"parent\": \"/cmwrq/vrt/fqr/\", \"files\": {}}, \"/cmwrq/vrt/fqr/nztw/bqf/\": {\"name\": \"/cmwrq/vrt/fqr/nztw/bqf/\", \"parent\": \"/cmwrq/vrt/fqr/nztw/\", \"files\": {\"vqfsh.smp\": 9998}}, \"/ftrccld/dtbzzl/\": {\"name\": \"/ftrccld/dtbzzl/\", \"parent\": \"/ftrccld/\", \"files\": {}}, \"/ftrccld/fvmh/\": {\"name\": \"/ftrccld/fvmh/\", \"parent\": \"/ftrccld/\", \"files\": {\"fbnnfsbp.zzg\": 303052, \"mdpcghq.nls\": 77238, \"ptw\": 238683}}, \"/ftrccld/fwztt/\": {\"name\": \"/ftrccld/fwztt/\", \"parent\": \"/ftrccld/\", \"files\": {\"jjdgzwnq\": 96594, \"mtp.szl\": 245415, \"pjts.jjr\": 129782, \"pvczm.cfw\": 308104, \"vhvn.smj\": 155109}}, \"/ftrccld/lsvvn/\": {\"name\": \"/ftrccld/lsvvn/\", \"parent\": \"/ftrccld/\", \"files\": {\"phv.ncc\": 282867}}, \"/ftrccld/pjts/\": {\"name\": \"/ftrccld/pjts/\", \"parent\": \"/ftrccld/\", \"files\": {\"jjdgzwnq\": 40866}}, \"/ftrccld/qglhlggq/\": {\"name\": \"/ftrccld/qglhlggq/\", \"parent\": \"/ftrccld/\", \"files\": {\"dtbzzl.ngb\": 19577, \"jjdgzwnq\": 21171, \"pvczm.cfw\": 136074, \"rlpjjf.lvh\": 212428, \"wcqlws.ndv\": 274669}}, \"/ftrccld/rslphgp/\": {\"name\": \"/ftrccld/rslphgp/\", \"parent\": \"/ftrccld/\", \"files\": {\"pvczm.cfw\": 29192, \"ttpfnqvn.cdr\": 18984, \"vqfsh.smp\": 302301, \"vsvtc.wwf\": 291211}}, \"/ftrccld/vhvn/\": {\"name\": \"/ftrccld/vhvn/\", \"parent\": \"/ftrccld/\", \"files\": {}}, \"/ftrccld/dtbzzl/fgwh/\": {\"name\": \"/ftrccld/dtbzzl/fgwh/\", \"parent\": \"/ftrccld/dtbzzl/\", \"files\": {}}, \"/ftrccld/dtbzzl/fgwh/dpdvswq/\": {\"name\": \"/ftrccld/dtbzzl/fgwh/dpdvswq/\", \"parent\": \"/ftrccld/dtbzzl/fgwh/\", \"files\": {\"vhvn\": 248465}}, \"/ftrccld/dtbzzl/fgwh/dpdvswq/jsstq/\": {\"name\": \"/ftrccld/dtbzzl/fgwh/dpdvswq/jsstq/\", \"parent\": \"/ftrccld/dtbzzl/fgwh/dpdvswq/\", \"files\": {\"nztw\": 252517}}, \"/ftrccld/fvmh/djcn/\": {\"name\": \"/ftrccld/fvmh/djcn/\", \"parent\": \"/ftrccld/fvmh/\", \"files\": {\"jjdgzwnq\": 8600}}, \"/ftrccld/fvmh/dtbzzl/\": {\"name\": \"/ftrccld/fvmh/dtbzzl/\", \"parent\": \"/ftrccld/fvmh/\", \"files\": {}}, \"/ftrccld/fvmh/mvppnhr/\": {\"name\": \"/ftrccld/fvmh/mvppnhr/\", \"parent\": \"/ftrccld/fvmh/\", \"files\": {\"nztw\": 176153}}, \"/ftrccld/fvmh/zdqlwnc/\": {\"name\": \"/ftrccld/fvmh/zdqlwnc/\", \"parent\": \"/ftrccld/fvmh/\", \"files\": {\"jjdgzwnq\": 8676, \"nhm.zhz\": 99885, \"pjts.gdj\": 234563}}, \"/ftrccld/fvmh/dtbzzl/sppdjcm/\": {\"name\": \"/ftrccld/fvmh/dtbzzl/sppdjcm/\", \"parent\": \"/ftrccld/fvmh/dtbzzl/\", \"files\": {\"dvfctpg.zbn\": 237925, \"zfchfq\": 314661}}, \"/ftrccld/fvmh/dtbzzl/vtnzqtvj/\": {\"name\": \"/ftrccld/fvmh/dtbzzl/vtnzqtvj/\", \"parent\": \"/ftrccld/fvmh/dtbzzl/\", \"files\": {}}, \"/ftrccld/fvmh/dtbzzl/sppdjcm/fghb/\": {\"name\": \"/ftrccld/fvmh/dtbzzl/sppdjcm/fghb/\", \"parent\": \"/ftrccld/fvmh/dtbzzl/sppdjcm/\", \"files\": {\"cpqhb.jsf\": 280081, \"wbcpnnvs.sjc\": 88448}}, \"/ftrccld/fvmh/dtbzzl/sppdjcm/pfjdsm/\": {\"name\": \"/ftrccld/fvmh/dtbzzl/sppdjcm/pfjdsm/\", \"parent\": \"/ftrccld/fvmh/dtbzzl/sppdjcm/\", \"files\": {\"bssmgf\": 256877, \"drwttw\": 127978, \"hznr.hjg\": 103674}}, \"/ftrccld/fvmh/dtbzzl/sppdjcm/pjts/\": {\"name\": \"/ftrccld/fvmh/dtbzzl/sppdjcm/pjts/\", \"parent\": \"/ftrccld/fvmh/dtbzzl/sppdjcm/\", \"files\": {\"qhwwpzn.dsc\": 191709}}, \"/ftrccld/fvmh/dtbzzl/vtnzqtvj/rrl/\": {\"name\": \"/ftrccld/fvmh/dtbzzl/vtnzqtvj/rrl/\", \"parent\": \"/ftrccld/fvmh/dtbzzl/vtnzqtvj/\", \"files\": {\"jjdgzwnq\": 281036, \"ssdlqcrw.smq\": 245082}}, \"/ftrccld/fvmh/dtbzzl/vtnzqtvj/rrl/lzlswv/\": {\"name\": \"/ftrccld/fvmh/dtbzzl/vtnzqtvj/rrl/lzlswv/\", \"parent\": \"/ftrccld/fvmh/dtbzzl/vtnzqtvj/rrl/\", \"files\": {}}, \"/ftrccld/fvmh/dtbzzl/vtnzqtvj/rrl/sjsqnvq/\": {\"name\": \"/ftrccld/fvmh/dtbzzl/vtnzqtvj/rrl/sjsqnvq/\", \"parent\": \"/ftrccld/fvmh/dtbzzl/vtnzqtvj/rrl/\", \"files\": {\"qjncmbn\": 221327}}, \"/ftrccld/fvmh/dtbzzl/vtnzqtvj/rrl/lzlswv/dmh/\": {\"name\": \"/ftrccld/fvmh/dtbzzl/vtnzqtvj/rrl/lzlswv/dmh/\", \"parent\": \"/ftrccld/fvmh/dtbzzl/vtnzqtvj/rrl/lzlswv/\", \"files\": {\"hlhgn.mvr\": 41234, \"tgv.csn\": 233542}}, \"/ftrccld/fvmh/mvppnhr/ldwv/\": {\"name\": \"/ftrccld/fvmh/mvppnhr/ldwv/\", \"parent\": \"/ftrccld/fvmh/mvppnhr/\", \"files\": {\"mjsm\": 161179}}, \"/ftrccld/fvmh/mvppnhr/rmdjdqvl/\": {\"name\": \"/ftrccld/fvmh/mvppnhr/rmdjdqvl/\", \"parent\": \"/ftrccld/fvmh/mvppnhr/\", \"files\": {}}, \"/ftrccld/fvmh/mvppnhr/tmj/\": {\"name\": \"/ftrccld/fvmh/mvppnhr/tmj/\", \"parent\": \"/ftrccld/fvmh/mvppnhr/\", \"files\": {\"cpqhb.jsf\": 252001, \"pqpq\": 49666, \"qpj.wpb\": 139885, \"vqfsh.smp\": 116339}}, \"/ftrccld/fvmh/mvppnhr/vhvn/\": {\"name\": \"/ftrccld/fvmh/mvppnhr/vhvn/\", \"parent\": \"/ftrccld/fvmh/mvppnhr/\", \"files\": {\"dtbzzl.hvp\": 89397, \"pvczm.cfw\": 105454, \"zdzm\": 280352}}, \"/ftrccld/fvmh/mvppnhr/rmdjdqvl/gnztqmhv/\": {\"name\": \"/ftrccld/fvmh/mvppnhr/rmdjdqvl/gnztqmhv/\", \"parent\": \"/ftrccld/fvmh/mvppnhr/rmdjdqvl/\", \"files\": {\"qlds.mpq\": 176043}}, \"/ftrccld/fvmh/mvppnhr/rmdjdqvl/lpmhfr/\": {\"name\": \"/ftrccld/fvmh/mvppnhr/rmdjdqvl/lpmhfr/\", \"parent\": \"/ftrccld/fvmh/mvppnhr/rmdjdqvl/\", \"files\": {}}, \"/ftrccld/fvmh/mvppnhr/rmdjdqvl/tphjm/\": {\"name\": \"/ftrccld/fvmh/mvppnhr/rmdjdqvl/tphjm/\", \"parent\": \"/ftrccld/fvmh/mvppnhr/rmdjdqvl/\", \"files\": {\"dcfmjn\": 74809}}, \"/ftrccld/fvmh/mvppnhr/rmdjdqvl/lpmhfr/jrrdsd/\": {\"name\": \"/ftrccld/fvmh/mvppnhr/rmdjdqvl/lpmhfr/jrrdsd/\", \"parent\": \"/ftrccld/fvmh/mvppnhr/rmdjdqvl/lpmhfr/\", \"files\": {\"vqfsh.smp\": 114477}}, \"/ftrccld/fvmh/zdqlwnc/fbhcv/\": {\"name\": \"/ftrccld/fvmh/zdqlwnc/fbhcv/\", \"parent\": \"/ftrccld/fvmh/zdqlwnc/\", \"files\": {\"hrzzgwqt\": 71695, \"vqfsh.smp\": 296401}}, \"/ftrccld/fvmh/zdqlwnc/rsdltnvc/\": {\"name\": \"/ftrccld/fvmh/zdqlwnc/rsdltnvc/\", \"parent\": \"/ftrccld/fvmh/zdqlwnc/\", \"files\": {\"gcvtqf\": 41623, \"wdcssvgh.vfs\": 233747}}, \"/ftrccld/fwztt/ssdlqcrw/\": {\"name\": \"/ftrccld/fwztt/ssdlqcrw/\", \"parent\": \"/ftrccld/fwztt/\", \"files\": {\"dtbzzl.tdb\": 292228, \"ssdlqcrw\": 107505, \"tfnrpsd\": 181384}}, \"/ftrccld/fwztt/vvzsr/\": {\"name\": \"/ftrccld/fwztt/vvzsr/\", \"parent\": \"/ftrccld/fwztt/\", \"files\": {\"jjdgzwnq\": 147437, \"ssdlqcrw.dpz\": 197054}}, \"/ftrccld/fwztt/ssdlqcrw/bzd/\": {\"name\": \"/ftrccld/fwztt/ssdlqcrw/bzd/\", \"parent\": \"/ftrccld/fwztt/ssdlqcrw/\", \"files\": {\"brdc\": 84648, \"vhvn\": 171457}}, \"/ftrccld/fwztt/vvzsr/bcdqrs/\": {\"name\": \"/ftrccld/fwztt/vvzsr/bcdqrs/\", \"parent\": \"/ftrccld/fwztt/vvzsr/\", \"files\": {\"pspd.dlq\": 297401, \"pvczm.cfw\": 136072}}, \"/ftrccld/fwztt/vvzsr/ssdlqcrw/\": {\"name\": \"/ftrccld/fwztt/vvzsr/ssdlqcrw/\", \"parent\": \"/ftrccld/fwztt/vvzsr/\", \"files\": {\"dtbzzl.pdh\": 293104}}, \"/ftrccld/fwztt/vvzsr/vhvn/\": {\"name\": \"/ftrccld/fwztt/vvzsr/vhvn/\", \"parent\": \"/ftrccld/fwztt/vvzsr/\", \"files\": {\"gvrht.cbm\": 178932}}, \"/ftrccld/fwztt/vvzsr/wthshgg/\": {\"name\": \"/ftrccld/fwztt/vvzsr/wthshgg/\", \"parent\": \"/ftrccld/fwztt/vvzsr/\", \"files\": {\"pcmw.bbq\": 88822, \"pvczm.cfw\": 255776, \"ssdlqcrw\": 163501}}, \"/ftrccld/fwztt/vvzsr/wthshgg/dppwvtmp/\": {\"name\": \"/ftrccld/fwztt/vvzsr/wthshgg/dppwvtmp/\", \"parent\": \"/ftrccld/fwztt/vvzsr/wthshgg/\", \"files\": {\"dtbzzl.lfq\": 45608, \"gdch.bzp\": 164648, \"nhm.zhz\": 65225}}, \"/ftrccld/fwztt/vvzsr/wthshgg/ljgszd/\": {\"name\": \"/ftrccld/fwztt/vvzsr/wthshgg/ljgszd/\", \"parent\": \"/ftrccld/fwztt/vvzsr/wthshgg/\", \"files\": {\"vqfsh.smp\": 125627}}, \"/ftrccld/fwztt/vvzsr/wthshgg/vbjsmgp/\": {\"name\": \"/ftrccld/fwztt/vvzsr/wthshgg/vbjsmgp/\", \"parent\": \"/ftrccld/fwztt/vvzsr/wthshgg/\", \"files\": {\"zpbgb.zmv\": 236951}}, \"/ftrccld/fwztt/vvzsr/wthshgg/vzqc/\": {\"name\": \"/ftrccld/fwztt/vvzsr/wthshgg/vzqc/\", \"parent\": \"/ftrccld/fwztt/vvzsr/wthshgg/\", \"files\": {\"fjfpbjjp\": 234565, \"jjdgzwnq\": 254986, \"nztw.qhz\": 164495}}, \"/ftrccld/fwztt/vvzsr/wthshgg/zmpdrpd/\": {\"name\": \"/ftrccld/fwztt/vvzsr/wthshgg/zmpdrpd/\", \"parent\": \"/ftrccld/fwztt/vvzsr/wthshgg/\", \"files\": {\"bznqq.dbv\": 123210, \"jjdgzwnq\": 141163, \"wjf.tdv\": 302352, \"wljnwsh\": 92016}}, \"/ftrccld/fwztt/vvzsr/wthshgg/vzqc/vhvn/\": {\"name\": \"/ftrccld/fwztt/vvzsr/wthshgg/vzqc/vhvn/\", \"parent\": \"/ftrccld/fwztt/vvzsr/wthshgg/vzqc/\", \"files\": {\"nztw\": 199196}}, \"/ftrccld/qglhlggq/vhvn/\": {\"name\": \"/ftrccld/qglhlggq/vhvn/\", \"parent\": \"/ftrccld/qglhlggq/\", \"files\": {\"cbppfp.vbc\": 183301, \"cqnz\": 84069, \"pjts.pvp\": 126627, \"pvczm.cfw\": 47594, \"qlnnfbvd\": 154978}}, \"/ftrccld/qglhlggq/wpvq/\": {\"name\": \"/ftrccld/qglhlggq/wpvq/\", \"parent\": \"/ftrccld/qglhlggq/\", \"files\": {\"vqfsh.smp\": 173437}}, \"/ftrccld/qglhlggq/vhvn/dtbzzl/\": {\"name\": \"/ftrccld/qglhlggq/vhvn/dtbzzl/\", \"parent\": \"/ftrccld/qglhlggq/vhvn/\", \"files\": {\"ccgbrdmb.hrr\": 50385, \"rzlwl.jbt\": 22427}}, \"/ftrccld/qglhlggq/vhvn/mdng/\": {\"name\": \"/ftrccld/qglhlggq/vhvn/mdng/\", \"parent\": \"/ftrccld/qglhlggq/vhvn/\", \"files\": {\"gtv.tbz\": 224013, \"jjdgzwnq\": 121884, \"nztw\": 142950, \"pvczm.cfw\": 9710}}, \"/ftrccld/qglhlggq/vhvn/ptqq/\": {\"name\": \"/ftrccld/qglhlggq/vhvn/ptqq/\", \"parent\": \"/ftrccld/qglhlggq/vhvn/\", \"files\": {\"jqppq.lgb\": 257967, \"nhm.zhz\": 166450}}, \"/ftrccld/qglhlggq/vhvn/mdng/gdqqtvnp/\": {\"name\": \"/ftrccld/qglhlggq/vhvn/mdng/gdqqtvnp/\", \"parent\": \"/ftrccld/qglhlggq/vhvn/mdng/\", \"files\": {\"vhvn.nfr\": 292349}}, \"/ftrccld/qglhlggq/vhvn/mdng/nrmhpblm/\": {\"name\": \"/ftrccld/qglhlggq/vhvn/mdng/nrmhpblm/\", \"parent\": \"/ftrccld/qglhlggq/vhvn/mdng/\", \"files\": {\"jbvd.mlc\": 52703, \"pfns.lpr\": 78268}}, \"/ftrccld/qglhlggq/vhvn/mdng/vhvn/\": {\"name\": \"/ftrccld/qglhlggq/vhvn/mdng/vhvn/\", \"parent\": \"/ftrccld/qglhlggq/vhvn/mdng/\", \"files\": {\"pjts\": 274549}}, \"/ftrccld/vhvn/ssdlqcrw/\": {\"name\": \"/ftrccld/vhvn/ssdlqcrw/\", \"parent\": \"/ftrccld/vhvn/\", \"files\": {\"jpwvws.fwv\": 76864, \"nztw.css\": 26365, \"vqfsh.smp\": 185966}}, \"/jpncfpb/hjgwcmh/\": {\"name\": \"/jpncfpb/hjgwcmh/\", \"parent\": \"/jpncfpb/\", \"files\": {\"bbjhc\": 92277}}, \"/jpncfpb/vhvn/\": {\"name\": \"/jpncfpb/vhvn/\", \"parent\": \"/jpncfpb/\", \"files\": {\"cpqhb.jsf\": 14901, \"tztzq\": 98212}}, \"/jpncfpb/hjgwcmh/fmst/\": {\"name\": \"/jpncfpb/hjgwcmh/fmst/\", \"parent\": \"/jpncfpb/hjgwcmh/\", \"files\": {\"cpqhb.jsf\": 105833, \"nhm.zhz\": 315858, \"nztw\": 233459}}, \"/jpncfpb/hjgwcmh/gzjq/\": {\"name\": \"/jpncfpb/hjgwcmh/gzjq/\", \"parent\": \"/jpncfpb/hjgwcmh/\", \"files\": {}}, \"/jpncfpb/hjgwcmh/gzjq/prjqfwf/\": {\"name\": \"/jpncfpb/hjgwcmh/gzjq/prjqfwf/\", \"parent\": \"/jpncfpb/hjgwcmh/gzjq/\", \"files\": {\"jnmgdb.rhn\": 151003}}, \"/jpncfpb/hjgwcmh/gzjq/ssdlqcrw/\": {\"name\": \"/jpncfpb/hjgwcmh/gzjq/ssdlqcrw/\", \"parent\": \"/jpncfpb/hjgwcmh/gzjq/\", \"files\": {\"cpqhb.jsf\": 103688}}, \"/mddr/qpfjp/\": {\"name\": \"/mddr/qpfjp/\", \"parent\": \"/mddr/\", \"files\": {}}, \"/mddr/qpfjp/cfhv/\": {\"name\": \"/mddr/qpfjp/cfhv/\", \"parent\": \"/mddr/qpfjp/\", \"files\": {}}, \"/mddr/qpfjp/cfhv/ssdlqcrw/\": {\"name\": \"/mddr/qpfjp/cfhv/ssdlqcrw/\", \"parent\": \"/mddr/qpfjp/cfhv/\", \"files\": {\"vvnpvrqb.hdv\": 134280}}, \"/mthvntdd/bcdcz/\": {\"name\": \"/mthvntdd/bcdcz/\", \"parent\": \"/mthvntdd/\", \"files\": {\"dtbzzl.hsv\": 213688, \"nndbhrf\": 100222, \"rqnsfbz.rmf\": 115627, \"vqfsh.smp\": 258672, \"whgmd\": 163927}}, \"/mthvntdd/cngbf/\": {\"name\": \"/mthvntdd/cngbf/\", \"parent\": \"/mthvntdd/\", \"files\": {\"jqvnttq.dsh\": 12089, \"nztw.sqj\": 38052}}, \"/mthvntdd/mqjjbq/\": {\"name\": \"/mthvntdd/mqjjbq/\", \"parent\": \"/mthvntdd/\", \"files\": {\"blbmb.fcv\": 157818, \"ccppbmqb.pbt\": 119103, \"cpqhb.jsf\": 141463, \"drhmws.fdd\": 197900, \"vqfsh.smp\": 175029}}, \"/mthvntdd/nhblb/\": {\"name\": \"/mthvntdd/nhblb/\", \"parent\": \"/mthvntdd/\", \"files\": {\"hrgsrbnj.tch\": 154794, \"swtt.tct\": 50110}}, \"/mthvntdd/ssdlqcrw/\": {\"name\": \"/mthvntdd/ssdlqcrw/\", \"parent\": \"/mthvntdd/\", \"files\": {\"vqfsh.smp\": 181610}}, \"/mthvntdd/ttvgr/\": {\"name\": \"/mthvntdd/ttvgr/\", \"parent\": \"/mthvntdd/\", \"files\": {}}, \"/mthvntdd/vdmm/\": {\"name\": \"/mthvntdd/vdmm/\", \"parent\": \"/mthvntdd/\", \"files\": {\"tssjcd.lfg\": 95079}}, \"/mthvntdd/wnhnwjm/\": {\"name\": \"/mthvntdd/wnhnwjm/\", \"parent\": \"/mthvntdd/\", \"files\": {\"mmhcgsc.zjf\": 67931, \"nqpzsf.ccc\": 22062, \"trr.vcn\": 219285}}, \"/mthvntdd/zdvbsb/\": {\"name\": \"/mthvntdd/zdvbsb/\", \"parent\": \"/mthvntdd/\", \"files\": {\"dtbzzl.ftj\": 293736}}, \"/mthvntdd/bcdcz/lbvbc/\": {\"name\": \"/mthvntdd/bcdcz/lbvbc/\", \"parent\": \"/mthvntdd/bcdcz/\", \"files\": {\"fpfpwtf.zfz\": 224836, \"nztw\": 103806}}, \"/mthvntdd/bcdcz/tvgclpsc/\": {\"name\": \"/mthvntdd/bcdcz/tvgclpsc/\", \"parent\": \"/mthvntdd/bcdcz/\", \"files\": {\"cpqhb.jsf\": 76900, \"qtffdmsg\": 282820}}, \"/mthvntdd/cngbf/hstph/\": {\"name\": \"/mthvntdd/cngbf/hstph/\", \"parent\": \"/mthvntdd/cngbf/\", \"files\": {\"pjts.qmt\": 172788}}, \"/mthvntdd/cngbf/qrnpjz/\": {\"name\": \"/mthvntdd/cngbf/qrnpjz/\", \"parent\": \"/mthvntdd/cngbf/\", \"files\": {}}, \"/mthvntdd/cngbf/qrnpjz/blzc/\": {\"name\": \"/mthvntdd/cngbf/qrnpjz/blzc/\", \"parent\": \"/mthvntdd/cngbf/qrnpjz/\", \"files\": {\"nhm.zhz\": 108342}}, \"/mthvntdd/cngbf/qrnpjz/rvl/\": {\"name\": \"/mthvntdd/cngbf/qrnpjz/rvl/\", \"parent\": \"/mthvntdd/cngbf/qrnpjz/\", \"files\": {}}, \"/mthvntdd/cngbf/qrnpjz/zvhtzqqc/\": {\"name\": \"/mthvntdd/cngbf/qrnpjz/zvhtzqqc/\", \"parent\": \"/mthvntdd/cngbf/qrnpjz/\", \"files\": {\"ltbzhjn\": 274977}}, \"/mthvntdd/cngbf/qrnpjz/rvl/bcrf/\": {\"name\": \"/mthvntdd/cngbf/qrnpjz/rvl/bcrf/\", \"parent\": \"/mthvntdd/cngbf/qrnpjz/rvl/\", \"files\": {\"cpqhb.jsf\": 182498, \"ggsq\": 14228}}, \"/mthvntdd/cngbf/qrnpjz/rvl/sjbr/\": {\"name\": \"/mthvntdd/cngbf/qrnpjz/rvl/sjbr/\", \"parent\": \"/mthvntdd/cngbf/qrnpjz/rvl/\", \"files\": {\"cscbp\": 133009, \"vtpmnwt\": 315907}}, \"/mthvntdd/cngbf/qrnpjz/rvl/bcrf/dcb/\": {\"name\": \"/mthvntdd/cngbf/qrnpjz/rvl/bcrf/dcb/\", \"parent\": \"/mthvntdd/cngbf/qrnpjz/rvl/bcrf/\", \"files\": {}}, \"/mthvntdd/cngbf/qrnpjz/rvl/bcrf/gnhvtgm/\": {\"name\": \"/mthvntdd/cngbf/qrnpjz/rvl/bcrf/gnhvtgm/\", \"parent\": \"/mthvntdd/cngbf/qrnpjz/rvl/bcrf/\", \"files\": {\"nhm.zhz\": 110236}}, \"/mthvntdd/cngbf/qrnpjz/rvl/bcrf/dcb/zlgjzcjv/\": {\"name\": \"/mthvntdd/cngbf/qrnpjz/rvl/bcrf/dcb/zlgjzcjv/\", \"parent\": \"/mthvntdd/cngbf/qrnpjz/rvl/bcrf/dcb/\", \"files\": {\"cpqhb.jsf\": 18316}}, \"/mthvntdd/cngbf/qrnpjz/zvhtzqqc/fglfpn/\": {\"name\": \"/mthvntdd/cngbf/qrnpjz/zvhtzqqc/fglfpn/\", \"parent\": \"/mthvntdd/cngbf/qrnpjz/zvhtzqqc/\", \"files\": {\"dvhjpfc\": 39153}}, \"/mthvntdd/cngbf/qrnpjz/zvhtzqqc/gtzrq/\": {\"name\": \"/mthvntdd/cngbf/qrnpjz/zvhtzqqc/gtzrq/\", \"parent\": \"/mthvntdd/cngbf/qrnpjz/zvhtzqqc/\", \"files\": {\"sqljdlpz.wpw\": 60625}}, \"/mthvntdd/cngbf/qrnpjz/zvhtzqqc/hfgdcf/\": {\"name\": \"/mthvntdd/cngbf/qrnpjz/zvhtzqqc/hfgdcf/\", \"parent\": \"/mthvntdd/cngbf/qrnpjz/zvhtzqqc/\", \"files\": {\"qdvnn.pbt\": 36016}}, \"/mthvntdd/cngbf/qrnpjz/zvhtzqqc/msc/\": {\"name\": \"/mthvntdd/cngbf/qrnpjz/zvhtzqqc/msc/\", \"parent\": \"/mthvntdd/cngbf/qrnpjz/zvhtzqqc/\", \"files\": {\"cpqhb.jsf\": 56601}}, \"/mthvntdd/cngbf/qrnpjz/zvhtzqqc/ssdlqcrw/\": {\"name\": \"/mthvntdd/cngbf/qrnpjz/zvhtzqqc/ssdlqcrw/\", \"parent\": \"/mthvntdd/cngbf/qrnpjz/zvhtzqqc/\", \"files\": {\"dssrvr\": 121507, \"lvtwlb.whn\": 295897, \"pjts.gqc\": 12047}}, \"/mthvntdd/cngbf/qrnpjz/zvhtzqqc/msc/hrz/\": {\"name\": \"/mthvntdd/cngbf/qrnpjz/zvhtzqqc/msc/hrz/\", \"parent\": \"/mthvntdd/cngbf/qrnpjz/zvhtzqqc/msc/\", \"files\": {\"fhngt.mlb\": 241511, \"nhm.zhz\": 286505}}, \"/mthvntdd/cngbf/qrnpjz/zvhtzqqc/msc/vlhllqz/\": {\"name\": \"/mthvntdd/cngbf/qrnpjz/zvhtzqqc/msc/vlhllqz/\", \"parent\": \"/mthvntdd/cngbf/qrnpjz/zvhtzqqc/msc/\", \"files\": {\"nhm.zhz\": 157880}}, \"/mthvntdd/mqjjbq/fmvp/\": {\"name\": \"/mthvntdd/mqjjbq/fmvp/\", \"parent\": \"/mthvntdd/mqjjbq/\", \"files\": {\"hnv.tlr\": 131432, \"nhm.zhz\": 98127, \"pvczm.cfw\": 9179, \"vqfsh.smp\": 121310}}, \"/mthvntdd/mqjjbq/rhldnjlt/\": {\"name\": \"/mthvntdd/mqjjbq/rhldnjlt/\", \"parent\": \"/mthvntdd/mqjjbq/\", \"files\": {}}, \"/mthvntdd/mqjjbq/fmvp/dhnn/\": {\"name\": \"/mthvntdd/mqjjbq/fmvp/dhnn/\", \"parent\": \"/mthvntdd/mqjjbq/fmvp/\", \"files\": {\"qcjsdg.zfg\": 173921, \"vhvn.csb\": 58654}}, \"/mthvntdd/mqjjbq/fmvp/dlcvwqw/\": {\"name\": \"/mthvntdd/mqjjbq/fmvp/dlcvwqw/\", \"parent\": \"/mthvntdd/mqjjbq/fmvp/\", \"files\": {\"zjb\": 285116}}, \"/mthvntdd/mqjjbq/fmvp/jzqt/\": {\"name\": \"/mthvntdd/mqjjbq/fmvp/jzqt/\", \"parent\": \"/mthvntdd/mqjjbq/fmvp/\", \"files\": {\"clmzwnf\": 104478, \"cpqhb.jsf\": 299622, \"jjdgzwnq\": 301236, \"vhvn\": 136737, \"wrd.jsz\": 12932}}, \"/mthvntdd/mqjjbq/fmvp/nvsdbjj/\": {\"name\": \"/mthvntdd/mqjjbq/fmvp/nvsdbjj/\", \"parent\": \"/mthvntdd/mqjjbq/fmvp/\", \"files\": {\"jjdgzwnq\": 180999, \"vhvn\": 219819}}, \"/mthvntdd/mqjjbq/fmvp/pjts/\": {\"name\": \"/mthvntdd/mqjjbq/fmvp/pjts/\", \"parent\": \"/mthvntdd/mqjjbq/fmvp/\", \"files\": {\"npzn\": 111715}}, \"/mthvntdd/mqjjbq/fmvp/jzqt/nsvlqq/\": {\"name\": \"/mthvntdd/mqjjbq/fmvp/jzqt/nsvlqq/\", \"parent\": \"/mthvntdd/mqjjbq/fmvp/jzqt/\", \"files\": {\"dtbzzl.htn\": 111712, \"hvzlmtj.ztr\": 213593}}, \"/mthvntdd/mqjjbq/fmvp/jzqt/vmp/\": {\"name\": \"/mthvntdd/mqjjbq/fmvp/jzqt/vmp/\", \"parent\": \"/mthvntdd/mqjjbq/fmvp/jzqt/\", \"files\": {\"jjdgzwnq\": 104275}}, \"/mthvntdd/mqjjbq/rhldnjlt/ffhcbvmf/\": {\"name\": \"/mthvntdd/mqjjbq/rhldnjlt/ffhcbvmf/\", \"parent\": \"/mthvntdd/mqjjbq/rhldnjlt/\", \"files\": {\"cpqhb.jsf\": 247668}}, \"/mthvntdd/mqjjbq/rhldnjlt/vprlq/\": {\"name\": \"/mthvntdd/mqjjbq/rhldnjlt/vprlq/\", \"parent\": \"/mthvntdd/mqjjbq/rhldnjlt/\", \"files\": {\"jmmtz.fzt\": 168090, \"nhm.zhz\": 68360, \"vqfsh.smp\": 304580}}, \"/mthvntdd/nhblb/nfwl/\": {\"name\": \"/mthvntdd/nhblb/nfwl/\", \"parent\": \"/mthvntdd/nhblb/\", \"files\": {}}, \"/mthvntdd/nhblb/ptc/\": {\"name\": \"/mthvntdd/nhblb/ptc/\", \"parent\": \"/mthvntdd/nhblb/\", \"files\": {\"pjts.vmh\": 190002}}, \"/mthvntdd/nhblb/rng/\": {\"name\": \"/mthvntdd/nhblb/rng/\", \"parent\": \"/mthvntdd/nhblb/\", \"files\": {\"nhm.zhz\": 39093}}, \"/mthvntdd/nhblb/vhvn/\": {\"name\": \"/mthvntdd/nhblb/vhvn/\", \"parent\": \"/mthvntdd/nhblb/\", \"files\": {\"hbv\": 275854}}, \"/mthvntdd/nhblb/vlj/\": {\"name\": \"/mthvntdd/nhblb/vlj/\", \"parent\": \"/mthvntdd/nhblb/\", \"files\": {\"ssdlqcrw\": 203390}}, \"/mthvntdd/nhblb/nfwl/lqs/\": {\"name\": \"/mthvntdd/nhblb/nfwl/lqs/\", \"parent\": \"/mthvntdd/nhblb/nfwl/\", \"files\": {}}, \"/mthvntdd/nhblb/nfwl/mlvnlz/\": {\"name\": \"/mthvntdd/nhblb/nfwl/mlvnlz/\", \"parent\": \"/mthvntdd/nhblb/nfwl/\", \"files\": {\"wjf\": 289891}}, \"/mthvntdd/nhblb/nfwl/lqs/mbcft/\": {\"name\": \"/mthvntdd/nhblb/nfwl/lqs/mbcft/\", \"parent\": \"/mthvntdd/nhblb/nfwl/lqs/\", \"files\": {\"bdnr\": 78188, \"pjts\": 194668}}, \"/mthvntdd/nhblb/nfwl/lqs/ntmvt/\": {\"name\": \"/mthvntdd/nhblb/nfwl/lqs/ntmvt/\", \"parent\": \"/mthvntdd/nhblb/nfwl/lqs/\", \"files\": {\"nhm.zhz\": 75647, \"scsvrqpf.jhb\": 186651}}, \"/mthvntdd/nhblb/nfwl/lqs/nztw/\": {\"name\": \"/mthvntdd/nhblb/nfwl/lqs/nztw/\", \"parent\": \"/mthvntdd/nhblb/nfwl/lqs/\", \"files\": {\"vqfsh.smp\": 164920}}, \"/mthvntdd/nhblb/vlj/qqqrm/\": {\"name\": \"/mthvntdd/nhblb/vlj/qqqrm/\", \"parent\": \"/mthvntdd/nhblb/vlj/\", \"files\": {}}, \"/mthvntdd/nhblb/vlj/qqqrm/wcpllh/\": {\"name\": \"/mthvntdd/nhblb/vlj/qqqrm/wcpllh/\", \"parent\": \"/mthvntdd/nhblb/vlj/qqqrm/\", \"files\": {}}, \"/mthvntdd/nhblb/vlj/qqqrm/wcpllh/pwg/\": {\"name\": \"/mthvntdd/nhblb/vlj/qqqrm/wcpllh/pwg/\", \"parent\": \"/mthvntdd/nhblb/vlj/qqqrm/wcpllh/\", \"files\": {\"dtbzzl.qvp\": 19102}}, \"/mthvntdd/ttvgr/vpcpd/\": {\"name\": \"/mthvntdd/ttvgr/vpcpd/\", \"parent\": \"/mthvntdd/ttvgr/\", \"files\": {\"mbb.szv\": 28102, \"rshrzjhn\": 304017}}, \"/wmqc/dtbzzl/\": {\"name\": \"/wmqc/dtbzzl/\", \"parent\": \"/wmqc/\", \"files\": {}}, \"/wmqc/hdzmzc/\": {\"name\": \"/wmqc/hdzmzc/\", \"parent\": \"/wmqc/\", \"files\": {\"dtbzzl.dmp\": 143510}}, \"/wmqc/nmmpwqvz/\": {\"name\": \"/wmqc/nmmpwqvz/\", \"parent\": \"/wmqc/\", \"files\": {\"nhm.zhz\": 276725}}, \"/wmqc/qjnm/\": {\"name\": \"/wmqc/qjnm/\", \"parent\": \"/wmqc/\", \"files\": {\"cpqhb.jsf\": 202264}}, \"/wmqc/dtbzzl/hpzgnb/\": {\"name\": \"/wmqc/dtbzzl/hpzgnb/\", \"parent\": \"/wmqc/dtbzzl/\", \"files\": {\"sbmdrbm\": 189696}}}'"
      ]
     },
     "execution_count": 39,
     "metadata": {},
     "output_type": "execute_result"
    }
   ],
   "source": [
    "import pandas as pd\n",
    "import json\n",
    "\n",
    "workdir = 'C:\\\\Users\\\\ed.deane\\\\Python\\\\AdventOfCode\\\\Day 7 No Space Left On Device\\\\'\n",
    "\n",
    "df= pd.read_csv(workdir+'input.txt', header=None)\n",
    "\n",
    "tree = {}\n",
    "tree['/']={'name':'/','files':{}}\n",
    "current_directory = '/'\n",
    "\n",
    "def change_directory(current_dir, new_dir):\n",
    "    if (current_dir[-1])!='/':\n",
    "        current_dir = current_dir + '/'\n",
    "        \n",
    "    if (current_dir == new_dir):\n",
    "        None\n",
    "    elif (new_dir == '..'):\n",
    "        current_dir_split = current_dir.split('/')\n",
    "                \n",
    "        new_dir = '/'.join(current_dir_split[0:-2])+'/'\n",
    "    else:\n",
    "        new_dir = current_dir+new_dir+'/'\n",
    "    return new_dir\n",
    "    \n",
    "\n",
    "for index, row in df.iterrows():\n",
    "    lst = row[0].split()\n",
    "    #print (lst)\n",
    "    if (lst[0]=='$' and lst[1]=='cd'):        \n",
    "        #print ('Change directory from ',current_directory)\n",
    "        current_directory = change_directory(current_directory,  lst[2])\n",
    "        #print ('... to',current_directory)\n",
    "        \n",
    "    elif (lst[0]=='dir'):\n",
    "        #print ('Create a new directory as the current + the new one')\n",
    "        new_dir = current_directory+lst[1]+'/'\n",
    "        \n",
    "        tree[new_dir]={'name':new_dir,\n",
    "                         'parent':current_directory,\n",
    "                         'files':{}}\n",
    "    elif (lst[0]=='$' and lst[1]=='ls'):\n",
    "        None\n",
    "        \n",
    "    else:\n",
    "        #print ('Add the file to the current directory ')\n",
    "        \n",
    "        tree[current_directory]['files'][lst[1]]=int(lst[0])\n",
    "    \n",
    "json.dumps(tree)"
   ]
  },
  {
   "cell_type": "code",
   "execution_count": 30,
   "id": "a1ffc7b2",
   "metadata": {},
   "outputs": [
    {
     "name": "stdout",
     "output_type": "stream",
     "text": [
      "['', 'a', 'd', 'v', '']\n"
     ]
    },
    {
     "data": {
      "text/plain": [
       "'/a/d/'"
      ]
     },
     "execution_count": 30,
     "metadata": {},
     "output_type": "execute_result"
    }
   ],
   "source": [
    "t='/a/d/v/'\n",
    "t_split = t.split('/')\n",
    "print (t_split)\n",
    "\n",
    "'/'.join(t_split[0:-2])+'/'"
   ]
  },
  {
   "cell_type": "code",
   "execution_count": 40,
   "id": "33081a7a",
   "metadata": {},
   "outputs": [
    {
     "data": {
      "text/plain": [
       "919137"
      ]
     },
     "execution_count": 40,
     "metadata": {},
     "output_type": "execute_result"
    }
   ],
   "source": [
    "def get_size(tree,i):\n",
    "    total = sum(tree[i]['files'].values())\n",
    "    # add all the subtrees who have this directory as a parent\n",
    "    for l in [k for k,v in tree.items() if v.get('parent') == i]:\n",
    "        #print (l)\n",
    "        total = total + get_size(tree,l)\n",
    "    return total\n",
    "\n",
    "#677333\n",
    "\n",
    "sum([get_size (tree,e) for e in tree if get_size (tree,e) <= 100000])\n",
    "#get_size (tree,'dtbzzl')"
   ]
  },
  {
   "cell_type": "code",
   "execution_count": 32,
   "id": "759c3f09",
   "metadata": {},
   "outputs": [
    {
     "data": {
      "text/plain": [
       "'{\"/\": {\"name\": \"/\", \"files\": {\"pjts.dzh\": 55644}, \"size\": 42461348}, \"cmwrq\": {\"name\": \"cmwrq\", \"parent\": \"/\", \"files\": {\"rvs\": 16144, \"swngfrsj.pcj\": 50956}, \"size\": 19537692}, \"ftrccld\": {\"name\": \"ftrccld\", \"parent\": \"/\", \"files\": {\"jngjc.mpd\": 22306, \"lnr.jhn\": 190320, \"nztw\": 295676, \"nztw.ssc\": 135025, \"ssdlqcrw.jnm\": 247764}, \"size\": 9699630}, \"jjlbmtw\": {\"name\": \"jjlbmtw\", \"parent\": \"/\", \"files\": {\"ctfhmm.ssv\": 211239, \"nztw\": 230020, \"sqtjn\": 109641}, \"size\": 550900}, \"jpncfpb\": {\"name\": \"jpncfpb\", \"parent\": \"/\", \"files\": {\"pcffhsw.bdm\": 286054, \"pvczm.cfw\": 260831}, \"size\": 1445315}, \"mddr\": {\"name\": \"mddr\", \"parent\": \"/\", \"files\": {}, \"size\": 0}, \"mthvntdd\": {\"name\": \"mthvntdd\", \"parent\": \"/\", \"files\": {\"cwtvl\": 62389, \"pvczm.cfw\": 6743}, \"size\": 10523264}, \"ptzsl\": {\"name\": \"ptzsl\", \"parent\": \"/\", \"files\": {\"jnsdzmbd\": 26404}, \"size\": 26404}, \"wmqc\": {\"name\": \"wmqc\", \"parent\": \"/\", \"files\": {}, \"size\": 622499}, \"dtbzzl\": {\"name\": \"dtbzzl\", \"parent\": \"cmwrq\", \"files\": {\"ljhpmvd.zqf\": 42503, \"vhvn.zqv\": 252091, \"fbb.gtn\": 239152, \"hsnbffzf.qvc\": 39308, \"nhm.zhz\": 211316, \"twjq\": 230237, \"wjbzmc\": 271143, \"ccgbrdmb.hrr\": 50385, \"rzlwl.jbt\": 22427}, \"size\": 14365797}, \"pjnghbm\": {\"name\": \"pjnghbm\", \"parent\": \"cmwrq\", \"files\": {\"ctqfg.ljd\": 189296, \"ssdlqcrw.lgv\": 205394}, \"size\": 394690}, \"vhvn\": {\"name\": \"vhvn\", \"parent\": \"cmwrq\", \"files\": {\"vqfsh.smp\": 187526, \"dtbzzl.hvp\": 89397, \"pvczm.cfw\": 47594, \"zdzm\": 280352, \"gvrht.cbm\": 178932, \"nztw\": 199196, \"cbppfp.vbc\": 183301, \"cqnz\": 84069, \"pjts.pvp\": 126627, \"qlnnfbvd\": 154978, \"pjts\": 274549, \"cpqhb.jsf\": 14901, \"tztzq\": 98212, \"hbv\": 275854}, \"size\": 3541782}, \"vrt\": {\"name\": \"vrt\", \"parent\": \"cmwrq\", \"files\": {\"nztw.mfg\": 270995, \"vqfsh.smp\": 137476}, \"size\": 1059298}, \"zgrjmtcq\": {\"name\": \"zgrjmtcq\", \"parent\": \"cmwrq\", \"files\": {\"vhvn\": 109025}, \"size\": 109025}, \"wwpnn\": {\"name\": \"wwpnn\", \"parent\": \"dtbzzl\", \"files\": {\"jjdgzwnq\": 58541, \"sqqpcvq.llm\": 101609}, \"size\": 8563109}, \"lwqgsbg\": {\"name\": \"lwqgsbg\", \"parent\": \"wwpnn\", \"files\": {\"cpqhb.jsf\": 207528, \"cqjgspw\": 38543, \"dtbzzl.njz\": 106337, \"pdv.ppg\": 302201, \"pvczm.cfw\": 175215}, \"size\": 4287902}, \"nztw\": {\"name\": \"nztw\", \"parent\": \"wwpnn\", \"files\": {\"vqfsh.smp\": 164920, \"nwt\": 313009, \"dtbzzl.grj\": 280535, \"ssdlqcrw.tqs\": 269725}, \"size\": 1038187}, \"rdtjztmt\": {\"name\": \"rdtjztmt\", \"parent\": \"wwpnn\", \"files\": {\"pvczm.cfw\": 276602, \"ssdlqcrw.dgb\": 305089}, \"size\": 736944}, \"ssdlqcrw\": {\"name\": \"ssdlqcrw\", \"parent\": \"wwpnn\", \"files\": {\"vqfsh.smp\": 181610, \"nztw.gpn\": 64928, \"gcwqcwrf.vmb\": 192414, \"dtbzzl.tdb\": 292228, \"ssdlqcrw\": 107505, \"tfnrpsd\": 181384, \"dtbzzl.pdh\": 293104, \"jpwvws.fwv\": 76864, \"nztw.css\": 26365, \"cpqhb.jsf\": 103688, \"vvnpvrqb.hdv\": 134280, \"dssrvr\": 121507, \"lvtwlb.whn\": 295897, \"pjts.gqc\": 12047}, \"size\": 2339926}, \"pjts\": {\"name\": \"pjts\", \"parent\": \"lwqgsbg\", \"files\": {\"bdbfjbgt.rwg\": 155681, \"dtcz.gqt\": 219192, \"dtbzzl.lnz\": 144464, \"swgt.smz\": 118500, \"dvztnn\": 173783, \"jlv.pgh\": 103088, \"nhm.zhz\": 39332, \"pppfcg\": 266947, \"vqfsh.smp\": 259357, \"qhwwpzn.dsc\": 191709, \"jjdgzwnq\": 40866, \"npzn\": 111715}, \"size\": 2987771}, \"sbvljdh\": {\"name\": \"sbvljdh\", \"parent\": \"lwqgsbg\", \"files\": {}, \"size\": 470307}, \"rdrqc\": {\"name\": \"rdrqc\", \"parent\": \"sbvljdh\", \"files\": {\"pjts.mbt\": 242263}, \"size\": 242263}, \"rtfpcswj\": {\"name\": \"rtfpcswj\", \"parent\": \"sbvljdh\", \"files\": {\"ssgcjt.twr\": 228044}, \"size\": 228044}, \"rzbb\": {\"name\": \"rzbb\", \"parent\": \"rdtjztmt\", \"files\": {\"pvczm.cfw\": 155253}, \"size\": 155253}, \"hlw\": {\"name\": \"hlw\", \"parent\": \"dtbzzl\", \"files\": {}, \"size\": 1073932}, \"pvsjpn\": {\"name\": \"pvsjpn\", \"parent\": \"dtbzzl\", \"files\": {\"jvjb.mdd\": 105150, \"nztw.cvp\": 142501}, \"size\": 247651}, \"lfqqrp\": {\"name\": \"lfqqrp\", \"parent\": \"hlw\", \"files\": {}, \"size\": 1073932}, \"mbmfpz\": {\"name\": \"mbmfpz\", \"parent\": \"lfqqrp\", \"files\": {}, \"size\": 730873}, \"mdhfdlw\": {\"name\": \"mdhfdlw\", \"parent\": \"lfqqrp\", \"files\": {\"dtbzzl.jmq\": 92462, \"tczcgf.zwj\": 239442}, \"size\": 331904}, \"qzs\": {\"name\": \"qzs\", \"parent\": \"lfqqrp\", \"files\": {\"cpqhb.jsf\": 11155}, \"size\": 11155}, \"fsrbwl\": {\"name\": \"fsrbwl\", \"parent\": \"mbmfpz\", \"files\": {\"ftlc.zbr\": 154657, \"pvczm.cfw\": 228929, \"tdl\": 234216}, \"size\": 669006}, \"lsmpw\": {\"name\": \"lsmpw\", \"parent\": \"mbmfpz\", \"files\": {\"dtbzzl.dgj\": 61867}, \"size\": 61867}, \"ltsj\": {\"name\": \"ltsj\", \"parent\": \"fsrbwl\", \"files\": {\"vmq.sjg\": 51204}, \"size\": 51204}, \"btc\": {\"name\": \"btc\", \"parent\": \"pjts\", \"files\": {\"gdjpql.wqr\": 5264}, \"size\": 5264}, \"tpwcmvch\": {\"name\": \"tpwcmvch\", \"parent\": \"pjts\", \"files\": {\"jjdgzwnq\": 141657, \"nhm.zhz\": 15650, \"qgf.qgj\": 182100, \"qshf\": 302332, \"vhvn\": 244799}, \"size\": 1157873}, \"nlrq\": {\"name\": \"nlrq\", \"parent\": \"tpwcmvch\", \"files\": {\"gnd.vmb\": 207207}, \"size\": 207207}, \"wvnqzjf\": {\"name\": \"wvnqzjf\", \"parent\": \"tpwcmvch\", \"files\": {\"mtzc.rqb\": 64128}, \"size\": 64128}, \"drrnm\": {\"name\": \"drrnm\", \"parent\": \"vrt\", \"files\": {\"pvczm.cfw\": 250912}, \"size\": 250912}, \"fqr\": {\"name\": \"fqr\", \"parent\": \"vrt\", \"files\": {\"nszfcq\": 229272, \"phh.pdl\": 170643}, \"size\": 399915}, \"bqf\": {\"name\": \"bqf\", \"parent\": \"nztw\", \"files\": {\"vqfsh.smp\": 9998}, \"size\": 9998}, \"fvmh\": {\"name\": \"fvmh\", \"parent\": \"ftrccld\", \"files\": {\"fbnnfsbp.zzg\": 303052, \"mdpcghq.nls\": 77238, \"ptw\": 238683}, \"size\": 2874715}, \"fwztt\": {\"name\": \"fwztt\", \"parent\": \"ftrccld\", \"files\": {\"jjdgzwnq\": 96594, \"mtp.szl\": 245415, \"pjts.jjr\": 129782, \"pvczm.cfw\": 308104, \"vhvn.smj\": 155109}, \"size\": 4171913}, \"lsvvn\": {\"name\": \"lsvvn\", \"parent\": \"ftrccld\", \"files\": {\"phv.ncc\": 282867}, \"size\": 282867}, \"qglhlggq\": {\"name\": \"qglhlggq\", \"parent\": \"ftrccld\", \"files\": {\"dtbzzl.ngb\": 19577, \"jjdgzwnq\": 21171, \"pvczm.cfw\": 136074, \"rlpjjf.lvh\": 212428, \"wcqlws.ndv\": 274669}, \"size\": 837356}, \"rslphgp\": {\"name\": \"rslphgp\", \"parent\": \"ftrccld\", \"files\": {\"pvczm.cfw\": 29192, \"ttpfnqvn.cdr\": 18984, \"vqfsh.smp\": 302301, \"vsvtc.wwf\": 291211}, \"size\": 641688}, \"fgwh\": {\"name\": \"fgwh\", \"parent\": \"dtbzzl\", \"files\": {}, \"size\": 500982}, \"dpdvswq\": {\"name\": \"dpdvswq\", \"parent\": \"fgwh\", \"files\": {\"vhvn\": 248465}, \"size\": 500982}, \"jsstq\": {\"name\": \"jsstq\", \"parent\": \"dpdvswq\", \"files\": {\"nztw\": 252517}, \"size\": 252517}, \"djcn\": {\"name\": \"djcn\", \"parent\": \"fvmh\", \"files\": {\"jjdgzwnq\": 8600}, \"size\": 8600}, \"mvppnhr\": {\"name\": \"mvppnhr\", \"parent\": \"fvmh\", \"files\": {\"nztw\": 176153}, \"size\": 1260552}, \"zdqlwnc\": {\"name\": \"zdqlwnc\", \"parent\": \"fvmh\", \"files\": {\"jjdgzwnq\": 8676, \"nhm.zhz\": 99885, \"pjts.gdj\": 234563}, \"size\": 986590}, \"sppdjcm\": {\"name\": \"sppdjcm\", \"parent\": \"dtbzzl\", \"files\": {\"dvfctpg.zbn\": 237925, \"zfchfq\": 314661}, \"size\": 1409644}, \"vtnzqtvj\": {\"name\": \"vtnzqtvj\", \"parent\": \"dtbzzl\", \"files\": {}, \"size\": 1022221}, \"fghb\": {\"name\": \"fghb\", \"parent\": \"sppdjcm\", \"files\": {\"cpqhb.jsf\": 280081, \"wbcpnnvs.sjc\": 88448}, \"size\": 368529}, \"pfjdsm\": {\"name\": \"pfjdsm\", \"parent\": \"sppdjcm\", \"files\": {\"bssmgf\": 256877, \"drwttw\": 127978, \"hznr.hjg\": 103674}, \"size\": 488529}, \"rrl\": {\"name\": \"rrl\", \"parent\": \"vtnzqtvj\", \"files\": {\"jjdgzwnq\": 281036, \"ssdlqcrw.smq\": 245082}, \"size\": 1022221}, \"lzlswv\": {\"name\": \"lzlswv\", \"parent\": \"rrl\", \"files\": {}, \"size\": 274776}, \"sjsqnvq\": {\"name\": \"sjsqnvq\", \"parent\": \"rrl\", \"files\": {\"qjncmbn\": 221327}, \"size\": 221327}, \"dmh\": {\"name\": \"dmh\", \"parent\": \"lzlswv\", \"files\": {\"hlhgn.mvr\": 41234, \"tgv.csn\": 233542}, \"size\": 274776}, \"ldwv\": {\"name\": \"ldwv\", \"parent\": \"mvppnhr\", \"files\": {\"mjsm\": 161179}, \"size\": 161179}, \"rmdjdqvl\": {\"name\": \"rmdjdqvl\", \"parent\": \"mvppnhr\", \"files\": {}, \"size\": 365329}, \"tmj\": {\"name\": \"tmj\", \"parent\": \"mvppnhr\", \"files\": {\"cpqhb.jsf\": 252001, \"pqpq\": 49666, \"qpj.wpb\": 139885, \"vqfsh.smp\": 116339}, \"size\": 557891}, \"gnztqmhv\": {\"name\": \"gnztqmhv\", \"parent\": \"rmdjdqvl\", \"files\": {\"qlds.mpq\": 176043}, \"size\": 176043}, \"lpmhfr\": {\"name\": \"lpmhfr\", \"parent\": \"rmdjdqvl\", \"files\": {}, \"size\": 114477}, \"tphjm\": {\"name\": \"tphjm\", \"parent\": \"rmdjdqvl\", \"files\": {\"dcfmjn\": 74809}, \"size\": 74809}, \"jrrdsd\": {\"name\": \"jrrdsd\", \"parent\": \"lpmhfr\", \"files\": {\"vqfsh.smp\": 114477}, \"size\": 114477}, \"fbhcv\": {\"name\": \"fbhcv\", \"parent\": \"zdqlwnc\", \"files\": {\"hrzzgwqt\": 71695, \"vqfsh.smp\": 296401}, \"size\": 368096}, \"rsdltnvc\": {\"name\": \"rsdltnvc\", \"parent\": \"zdqlwnc\", \"files\": {\"gcvtqf\": 41623, \"wdcssvgh.vfs\": 233747}, \"size\": 275370}, \"vvzsr\": {\"name\": \"vvzsr\", \"parent\": \"fwztt\", \"files\": {\"jjdgzwnq\": 147437, \"ssdlqcrw.dpz\": 197054}, \"size\": 3236909}, \"bzd\": {\"name\": \"bzd\", \"parent\": \"ssdlqcrw\", \"files\": {\"brdc\": 84648, \"vhvn\": 171457}, \"size\": 256105}, \"bcdqrs\": {\"name\": \"bcdqrs\", \"parent\": \"vvzsr\", \"files\": {\"pspd.dlq\": 297401, \"pvczm.cfw\": 136072}, \"size\": 433473}, \"wthshgg\": {\"name\": \"wthshgg\", \"parent\": \"vvzsr\", \"files\": {\"pcmw.bbq\": 88822, \"pvczm.cfw\": 255776, \"ssdlqcrw\": 163501}, \"size\": 2458945}, \"dppwvtmp\": {\"name\": \"dppwvtmp\", \"parent\": \"wthshgg\", \"files\": {\"dtbzzl.lfq\": 45608, \"gdch.bzp\": 164648, \"nhm.zhz\": 65225}, \"size\": 275481}, \"ljgszd\": {\"name\": \"ljgszd\", \"parent\": \"wthshgg\", \"files\": {\"vqfsh.smp\": 125627}, \"size\": 125627}, \"vbjsmgp\": {\"name\": \"vbjsmgp\", \"parent\": \"wthshgg\", \"files\": {\"zpbgb.zmv\": 236951}, \"size\": 236951}, \"vzqc\": {\"name\": \"vzqc\", \"parent\": \"wthshgg\", \"files\": {\"fjfpbjjp\": 234565, \"jjdgzwnq\": 254986, \"nztw.qhz\": 164495}, \"size\": 654046}, \"zmpdrpd\": {\"name\": \"zmpdrpd\", \"parent\": \"wthshgg\", \"files\": {\"bznqq.dbv\": 123210, \"jjdgzwnq\": 141163, \"wjf.tdv\": 302352, \"wljnwsh\": 92016}, \"size\": 658741}, \"wpvq\": {\"name\": \"wpvq\", \"parent\": \"qglhlggq\", \"files\": {\"vqfsh.smp\": 173437}, \"size\": 173437}, \"mdng\": {\"name\": \"mdng\", \"parent\": \"vhvn\", \"files\": {\"gtv.tbz\": 224013, \"jjdgzwnq\": 121884, \"nztw\": 142950, \"pvczm.cfw\": 9710}, \"size\": 921877}, \"ptqq\": {\"name\": \"ptqq\", \"parent\": \"vhvn\", \"files\": {\"jqppq.lgb\": 257967, \"nhm.zhz\": 166450}, \"size\": 424417}, \"gdqqtvnp\": {\"name\": \"gdqqtvnp\", \"parent\": \"mdng\", \"files\": {\"vhvn.nfr\": 292349}, \"size\": 292349}, \"nrmhpblm\": {\"name\": \"nrmhpblm\", \"parent\": \"mdng\", \"files\": {\"jbvd.mlc\": 52703, \"pfns.lpr\": 78268}, \"size\": 130971}, \"hjgwcmh\": {\"name\": \"hjgwcmh\", \"parent\": \"jpncfpb\", \"files\": {\"bbjhc\": 92277}, \"size\": 898430}, \"fmst\": {\"name\": \"fmst\", \"parent\": \"hjgwcmh\", \"files\": {\"cpqhb.jsf\": 105833, \"nhm.zhz\": 315858, \"nztw\": 233459}, \"size\": 655150}, \"gzjq\": {\"name\": \"gzjq\", \"parent\": \"hjgwcmh\", \"files\": {}, \"size\": 151003}, \"prjqfwf\": {\"name\": \"prjqfwf\", \"parent\": \"gzjq\", \"files\": {\"jnmgdb.rhn\": 151003}, \"size\": 151003}, \"qpfjp\": {\"name\": \"qpfjp\", \"parent\": \"mddr\", \"files\": {}, \"size\": 0}, \"cfhv\": {\"name\": \"cfhv\", \"parent\": \"qpfjp\", \"files\": {}, \"size\": 0}, \"bcdcz\": {\"name\": \"bcdcz\", \"parent\": \"mthvntdd\", \"files\": {\"dtbzzl.hsv\": 213688, \"nndbhrf\": 100222, \"rqnsfbz.rmf\": 115627, \"vqfsh.smp\": 258672, \"whgmd\": 163927}, \"size\": 1540498}, \"cngbf\": {\"name\": \"cngbf\", \"parent\": \"mthvntdd\", \"files\": {\"jqvnttq.dsh\": 12089, \"nztw.sqj\": 38052}, \"size\": 2258733}, \"mqjjbq\": {\"name\": \"mqjjbq\", \"parent\": \"mthvntdd\", \"files\": {\"blbmb.fcv\": 157818, \"ccppbmqb.pbt\": 119103, \"cpqhb.jsf\": 141463, \"drhmws.fdd\": 197900, \"vqfsh.smp\": 175029}, \"size\": 4143153}, \"nhblb\": {\"name\": \"nhblb\", \"parent\": \"mthvntdd\", \"files\": {\"hrgsrbnj.tch\": 154794, \"swtt.tct\": 50110}, \"size\": 1481536}, \"ttvgr\": {\"name\": \"ttvgr\", \"parent\": \"mthvntdd\", \"files\": {}, \"size\": 332119}, \"vdmm\": {\"name\": \"vdmm\", \"parent\": \"mthvntdd\", \"files\": {\"tssjcd.lfg\": 95079}, \"size\": 95079}, \"wnhnwjm\": {\"name\": \"wnhnwjm\", \"parent\": \"mthvntdd\", \"files\": {\"mmhcgsc.zjf\": 67931, \"nqpzsf.ccc\": 22062, \"trr.vcn\": 219285}, \"size\": 309278}, \"zdvbsb\": {\"name\": \"zdvbsb\", \"parent\": \"mthvntdd\", \"files\": {\"dtbzzl.ftj\": 293736}, \"size\": 293736}, \"lbvbc\": {\"name\": \"lbvbc\", \"parent\": \"bcdcz\", \"files\": {\"fpfpwtf.zfz\": 224836, \"nztw\": 103806}, \"size\": 328642}, \"tvgclpsc\": {\"name\": \"tvgclpsc\", \"parent\": \"bcdcz\", \"files\": {\"cpqhb.jsf\": 76900, \"qtffdmsg\": 282820}, \"size\": 359720}, \"hstph\": {\"name\": \"hstph\", \"parent\": \"cngbf\", \"files\": {\"pjts.qmt\": 172788}, \"size\": 172788}, \"qrnpjz\": {\"name\": \"qrnpjz\", \"parent\": \"cngbf\", \"files\": {}, \"size\": 2035804}, \"blzc\": {\"name\": \"blzc\", \"parent\": \"qrnpjz\", \"files\": {\"nhm.zhz\": 108342}, \"size\": 108342}, \"rvl\": {\"name\": \"rvl\", \"parent\": \"qrnpjz\", \"files\": {}, \"size\": 774194}, \"zvhtzqqc\": {\"name\": \"zvhtzqqc\", \"parent\": \"qrnpjz\", \"files\": {\"ltbzhjn\": 274977}, \"size\": 1153268}, \"bcrf\": {\"name\": \"bcrf\", \"parent\": \"rvl\", \"files\": {\"cpqhb.jsf\": 182498, \"ggsq\": 14228}, \"size\": 325278}, \"sjbr\": {\"name\": \"sjbr\", \"parent\": \"rvl\", \"files\": {\"cscbp\": 133009, \"vtpmnwt\": 315907}, \"size\": 448916}, \"dcb\": {\"name\": \"dcb\", \"parent\": \"bcrf\", \"files\": {}, \"size\": 18316}, \"gnhvtgm\": {\"name\": \"gnhvtgm\", \"parent\": \"bcrf\", \"files\": {\"nhm.zhz\": 110236}, \"size\": 110236}, \"zlgjzcjv\": {\"name\": \"zlgjzcjv\", \"parent\": \"dcb\", \"files\": {\"cpqhb.jsf\": 18316}, \"size\": 18316}, \"fglfpn\": {\"name\": \"fglfpn\", \"parent\": \"zvhtzqqc\", \"files\": {\"dvhjpfc\": 39153}, \"size\": 39153}, \"gtzrq\": {\"name\": \"gtzrq\", \"parent\": \"zvhtzqqc\", \"files\": {\"sqljdlpz.wpw\": 60625}, \"size\": 60625}, \"hfgdcf\": {\"name\": \"hfgdcf\", \"parent\": \"zvhtzqqc\", \"files\": {\"qdvnn.pbt\": 36016}, \"size\": 36016}, \"msc\": {\"name\": \"msc\", \"parent\": \"zvhtzqqc\", \"files\": {\"cpqhb.jsf\": 56601}, \"size\": 742497}, \"hrz\": {\"name\": \"hrz\", \"parent\": \"msc\", \"files\": {\"fhngt.mlb\": 241511, \"nhm.zhz\": 286505}, \"size\": 528016}, \"vlhllqz\": {\"name\": \"vlhllqz\", \"parent\": \"msc\", \"files\": {\"nhm.zhz\": 157880}, \"size\": 157880}, \"fmvp\": {\"name\": \"fmvp\", \"parent\": \"mqjjbq\", \"files\": {\"hnv.tlr\": 131432, \"nhm.zhz\": 98127, \"pvczm.cfw\": 9179, \"vqfsh.smp\": 121310}, \"size\": 2563142}, \"rhldnjlt\": {\"name\": \"rhldnjlt\", \"parent\": \"mqjjbq\", \"files\": {}, \"size\": 788698}, \"dhnn\": {\"name\": \"dhnn\", \"parent\": \"fmvp\", \"files\": {\"qcjsdg.zfg\": 173921, \"vhvn.csb\": 58654}, \"size\": 232575}, \"dlcvwqw\": {\"name\": \"dlcvwqw\", \"parent\": \"fmvp\", \"files\": {\"zjb\": 285116}, \"size\": 285116}, \"jzqt\": {\"name\": \"jzqt\", \"parent\": \"fmvp\", \"files\": {\"clmzwnf\": 104478, \"cpqhb.jsf\": 299622, \"jjdgzwnq\": 301236, \"vhvn\": 136737, \"wrd.jsz\": 12932}, \"size\": 1284585}, \"nvsdbjj\": {\"name\": \"nvsdbjj\", \"parent\": \"fmvp\", \"files\": {\"jjdgzwnq\": 180999, \"vhvn\": 219819}, \"size\": 400818}, \"nsvlqq\": {\"name\": \"nsvlqq\", \"parent\": \"jzqt\", \"files\": {\"dtbzzl.htn\": 111712, \"hvzlmtj.ztr\": 213593}, \"size\": 325305}, \"vmp\": {\"name\": \"vmp\", \"parent\": \"jzqt\", \"files\": {\"jjdgzwnq\": 104275}, \"size\": 104275}, \"ffhcbvmf\": {\"name\": \"ffhcbvmf\", \"parent\": \"rhldnjlt\", \"files\": {\"cpqhb.jsf\": 247668}, \"size\": 247668}, \"vprlq\": {\"name\": \"vprlq\", \"parent\": \"rhldnjlt\", \"files\": {\"jmmtz.fzt\": 168090, \"nhm.zhz\": 68360, \"vqfsh.smp\": 304580}, \"size\": 541030}, \"nfwl\": {\"name\": \"nfwl\", \"parent\": \"nhblb\", \"files\": {}, \"size\": 825045}, \"ptc\": {\"name\": \"ptc\", \"parent\": \"nhblb\", \"files\": {\"pjts.vmh\": 190002}, \"size\": 190002}, \"rng\": {\"name\": \"rng\", \"parent\": \"nhblb\", \"files\": {\"nhm.zhz\": 39093}, \"size\": 39093}, \"vlj\": {\"name\": \"vlj\", \"parent\": \"nhblb\", \"files\": {\"ssdlqcrw\": 203390}, \"size\": 222492}, \"lqs\": {\"name\": \"lqs\", \"parent\": \"nfwl\", \"files\": {}, \"size\": 535154}, \"mlvnlz\": {\"name\": \"mlvnlz\", \"parent\": \"nfwl\", \"files\": {\"wjf\": 289891}, \"size\": 289891}, \"mbcft\": {\"name\": \"mbcft\", \"parent\": \"lqs\", \"files\": {\"bdnr\": 78188, \"pjts\": 194668}, \"size\": 272856}, \"ntmvt\": {\"name\": \"ntmvt\", \"parent\": \"lqs\", \"files\": {\"nhm.zhz\": 75647, \"scsvrqpf.jhb\": 186651}, \"size\": 262298}, \"qqqrm\": {\"name\": \"qqqrm\", \"parent\": \"vlj\", \"files\": {}, \"size\": 19102}, \"wcpllh\": {\"name\": \"wcpllh\", \"parent\": \"qqqrm\", \"files\": {}, \"size\": 19102}, \"pwg\": {\"name\": \"pwg\", \"parent\": \"wcpllh\", \"files\": {\"dtbzzl.qvp\": 19102}, \"size\": 19102}, \"vpcpd\": {\"name\": \"vpcpd\", \"parent\": \"ttvgr\", \"files\": {\"mbb.szv\": 28102, \"rshrzjhn\": 304017}, \"size\": 332119}, \"hdzmzc\": {\"name\": \"hdzmzc\", \"parent\": \"wmqc\", \"files\": {\"dtbzzl.dmp\": 143510}, \"size\": 143510}, \"nmmpwqvz\": {\"name\": \"nmmpwqvz\", \"parent\": \"wmqc\", \"files\": {\"nhm.zhz\": 276725}, \"size\": 276725}, \"qjnm\": {\"name\": \"qjnm\", \"parent\": \"wmqc\", \"files\": {\"cpqhb.jsf\": 202264}, \"size\": 202264}, \"hpzgnb\": {\"name\": \"hpzgnb\", \"parent\": \"dtbzzl\", \"files\": {\"sbmdrbm\": 189696}, \"size\": 189696}}'"
      ]
     },
     "execution_count": 32,
     "metadata": {},
     "output_type": "execute_result"
    }
   ],
   "source": [
    "def get_size(tree,i):\n",
    "    total = sum(tree[i]['files'].values())\n",
    "    # add all the subtrees who have this directory as a parent\n",
    "    for l in [k for k,v in tree.items() if v.get('parent') == i]:\n",
    "        total = total + get_size(tree,l)\n",
    "    return total\n",
    "\n",
    "for e in tree:\n",
    "    tree[e].update({'size':get_size (tree,e)})\n",
    "\n",
    "json.dumps(tree)"
   ]
  },
  {
   "cell_type": "code",
   "execution_count": 33,
   "id": "0ccd0fb4",
   "metadata": {},
   "outputs": [
    {
     "name": "stdout",
     "output_type": "stream",
     "text": [
      "42461348\n",
      "19537692\n",
      "9699630\n",
      "550900\n",
      "1445315\n",
      "0\n",
      "10523264\n",
      "26404\n",
      "622499\n",
      "14365797\n",
      "394690\n",
      "3541782\n",
      "1059298\n",
      "109025\n",
      "8563109\n",
      "4287902\n",
      "1038187\n",
      "736944\n",
      "2339926\n",
      "2987771\n",
      "470307\n",
      "242263\n",
      "228044\n",
      "155253\n",
      "1073932\n",
      "247651\n",
      "1073932\n",
      "730873\n",
      "331904\n",
      "11155\n",
      "669006\n",
      "61867\n",
      "51204\n",
      "5264\n",
      "1157873\n",
      "207207\n",
      "64128\n",
      "250912\n",
      "399915\n",
      "9998\n",
      "2874715\n",
      "4171913\n",
      "282867\n",
      "837356\n",
      "641688\n",
      "500982\n",
      "500982\n",
      "252517\n",
      "8600\n",
      "1260552\n",
      "986590\n",
      "1409644\n",
      "1022221\n",
      "368529\n",
      "488529\n",
      "1022221\n",
      "274776\n",
      "221327\n",
      "274776\n",
      "161179\n",
      "365329\n",
      "557891\n",
      "176043\n",
      "114477\n",
      "74809\n",
      "114477\n",
      "368096\n",
      "275370\n",
      "3236909\n",
      "256105\n",
      "433473\n",
      "2458945\n",
      "275481\n",
      "125627\n",
      "236951\n",
      "654046\n",
      "658741\n",
      "173437\n",
      "921877\n",
      "424417\n",
      "292349\n",
      "130971\n",
      "898430\n",
      "655150\n",
      "151003\n",
      "151003\n",
      "0\n",
      "0\n",
      "1540498\n",
      "2258733\n",
      "4143153\n",
      "1481536\n",
      "332119\n",
      "95079\n",
      "309278\n",
      "293736\n",
      "328642\n",
      "359720\n",
      "172788\n",
      "2035804\n",
      "108342\n",
      "774194\n",
      "1153268\n",
      "325278\n",
      "448916\n",
      "18316\n",
      "110236\n",
      "18316\n",
      "39153\n",
      "60625\n",
      "36016\n",
      "742497\n",
      "528016\n",
      "157880\n",
      "2563142\n",
      "788698\n",
      "232575\n",
      "285116\n",
      "1284585\n",
      "400818\n",
      "325305\n",
      "104275\n",
      "247668\n",
      "541030\n",
      "825045\n",
      "190002\n",
      "39093\n",
      "222492\n",
      "535154\n",
      "289891\n",
      "272856\n",
      "262298\n",
      "19102\n",
      "19102\n",
      "19102\n",
      "332119\n",
      "143510\n",
      "276725\n",
      "202264\n",
      "189696\n"
     ]
    },
    {
     "data": {
      "text/plain": [
       "677333"
      ]
     },
     "execution_count": 33,
     "metadata": {},
     "output_type": "execute_result"
    }
   ],
   "source": [
    "total = 0\n",
    "for e in tree:\n",
    "    print (tree[e].get('size'))\n",
    "    if(tree[e].get('size') <= 100000):\n",
    "        \n",
    "        total = total + (tree[e].get('size'))\n",
    "total"
   ]
  }
 ],
 "metadata": {
  "kernelspec": {
   "display_name": "Python 3 (ipykernel)",
   "language": "python",
   "name": "python3"
  },
  "language_info": {
   "codemirror_mode": {
    "name": "ipython",
    "version": 3
   },
   "file_extension": ".py",
   "mimetype": "text/x-python",
   "name": "python",
   "nbconvert_exporter": "python",
   "pygments_lexer": "ipython3",
   "version": "3.9.7"
  }
 },
 "nbformat": 4,
 "nbformat_minor": 5
}
