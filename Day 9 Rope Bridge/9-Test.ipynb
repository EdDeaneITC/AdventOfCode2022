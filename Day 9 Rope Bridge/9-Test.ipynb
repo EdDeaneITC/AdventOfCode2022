{
 "cells": [
  {
   "cell_type": "code",
   "execution_count": 23,
   "id": "7a24f9ef",
   "metadata": {},
   "outputs": [
    {
     "name": "stdout",
     "output_type": "stream",
     "text": [
      "Create new entry\n",
      "Create new entry\n",
      "Create new entry\n",
      "Create new entry\n"
     ]
    },
    {
     "data": {
      "text/html": [
       "<div>\n",
       "<style scoped>\n",
       "    .dataframe tbody tr th:only-of-type {\n",
       "        vertical-align: middle;\n",
       "    }\n",
       "\n",
       "    .dataframe tbody tr th {\n",
       "        vertical-align: top;\n",
       "    }\n",
       "\n",
       "    .dataframe thead th {\n",
       "        text-align: right;\n",
       "    }\n",
       "</style>\n",
       "<table border=\"1\" class=\"dataframe\">\n",
       "  <thead>\n",
       "    <tr style=\"text-align: right;\">\n",
       "      <th></th>\n",
       "      <th>0</th>\n",
       "      <th>1</th>\n",
       "      <th>2</th>\n",
       "    </tr>\n",
       "  </thead>\n",
       "  <tbody>\n",
       "    <tr>\n",
       "      <th>0</th>\n",
       "      <td>1.0</td>\n",
       "      <td>NaN</td>\n",
       "      <td>NaN</td>\n",
       "    </tr>\n",
       "    <tr>\n",
       "      <th>1</th>\n",
       "      <td>1.0</td>\n",
       "      <td>NaN</td>\n",
       "      <td>NaN</td>\n",
       "    </tr>\n",
       "    <tr>\n",
       "      <th>2</th>\n",
       "      <td>2.0</td>\n",
       "      <td>1.0</td>\n",
       "      <td>1.0</td>\n",
       "    </tr>\n",
       "  </tbody>\n",
       "</table>\n",
       "</div>"
      ],
      "text/plain": [
       "     0    1    2\n",
       "0  1.0  NaN  NaN\n",
       "1  1.0  NaN  NaN\n",
       "2  2.0  1.0  1.0"
      ]
     },
     "execution_count": 23,
     "metadata": {},
     "output_type": "execute_result"
    }
   ],
   "source": [
    "import pandas as pd\n",
    "# Creates pandas DataFrame.\n",
    "visited_positions_df = pd.DataFrame({0:1}, index=[0])\n",
    "\n",
    "visited_positions_df\n",
    "\n",
    "def add_position(visited_positions_df,x,y):\n",
    "    try:\n",
    "        #Increment the value already at that position\n",
    "        visited_positions_df.at[y,x] = visited_positions_df.fillna(0)._get_value(y,x, takeable=False)+1\n",
    "    except KeyError:\n",
    "        print('Create new entry')\n",
    "        visited_positions_df.at[y,x] = 1\n",
    "    \n",
    "    return visited_positions_df\n",
    "\n",
    "visited_positions_df= add_position(visited_positions_df,0,1)\n",
    "visited_positions_df= add_position(visited_positions_df,0,2)\n",
    "visited_positions_df= add_position(visited_positions_df,0,2)\n",
    "visited_positions_df= add_position(visited_positions_df,1,2)\n",
    "visited_positions_df= add_position(visited_positions_df,2,2)\n",
    "visited_positions_df"
   ]
  },
  {
   "cell_type": "code",
   "execution_count": 24,
   "id": "11eaa422",
   "metadata": {},
   "outputs": [
    {
     "data": {
      "text/html": [
       "<div>\n",
       "<style scoped>\n",
       "    .dataframe tbody tr th:only-of-type {\n",
       "        vertical-align: middle;\n",
       "    }\n",
       "\n",
       "    .dataframe tbody tr th {\n",
       "        vertical-align: top;\n",
       "    }\n",
       "\n",
       "    .dataframe thead th {\n",
       "        text-align: right;\n",
       "    }\n",
       "</style>\n",
       "<table border=\"1\" class=\"dataframe\">\n",
       "  <thead>\n",
       "    <tr style=\"text-align: right;\">\n",
       "      <th></th>\n",
       "      <th>0</th>\n",
       "      <th>1</th>\n",
       "      <th>2</th>\n",
       "    </tr>\n",
       "  </thead>\n",
       "  <tbody>\n",
       "    <tr>\n",
       "      <th>0</th>\n",
       "      <td>1.0</td>\n",
       "      <td>NaN</td>\n",
       "      <td>NaN</td>\n",
       "    </tr>\n",
       "    <tr>\n",
       "      <th>1</th>\n",
       "      <td>1.0</td>\n",
       "      <td>NaN</td>\n",
       "      <td>NaN</td>\n",
       "    </tr>\n",
       "    <tr>\n",
       "      <th>2</th>\n",
       "      <td>2.0</td>\n",
       "      <td>1.0</td>\n",
       "      <td>1.0</td>\n",
       "    </tr>\n",
       "  </tbody>\n",
       "</table>\n",
       "</div>"
      ],
      "text/plain": [
       "     0    1    2\n",
       "0  1.0  NaN  NaN\n",
       "1  1.0  NaN  NaN\n",
       "2  2.0  1.0  1.0"
      ]
     },
     "execution_count": 24,
     "metadata": {},
     "output_type": "execute_result"
    }
   ],
   "source": [
    "visited_positions_df"
   ]
  },
  {
   "cell_type": "code",
   "execution_count": null,
   "id": "329ae328",
   "metadata": {},
   "outputs": [],
   "source": [
    "\n",
    "\n",
    "\n",
    "H=(2,2)\n",
    "T=(2,1)\n",
    "print (move_tail(T,H))\n",
    "\n",
    "H=(4,2)\n",
    "T=(4,0)\n",
    "\n",
    "print (move_tail(T,H))\n",
    "\n",
    "H=(3,3)\n",
    "T=(5,3)\n",
    "\n",
    "print (move_tail(T,H))\n",
    "\n",
    "H=(2,2)\n",
    "T=(3,4)\n",
    "\n",
    "print (move_tail(T,H))\n",
    "\n",
    "H=(3,4)\n",
    "T=(2,2)\n",
    "\n",
    "print (move_tail(T,H))"
   ]
  },
  {
   "cell_type": "code",
   "execution_count": 6,
   "id": "b6c5d090",
   "metadata": {},
   "outputs": [
    {
     "name": "stdout",
     "output_type": "stream",
     "text": [
      "[[0, [0, 0]], [1, [0, 0]], [2, [0, 0]], [3, [0, 0]], [4, [0, 0]], [5, [0, 0]], [6, [0, 0]], [7, [0, 0]], [8, [0, 0]]]\n"
     ]
    },
    {
     "data": {
      "text/plain": [
       "[0, 0]"
      ]
     },
     "execution_count": 6,
     "metadata": {},
     "output_type": "execute_result"
    }
   ],
   "source": [
    "T=[] \n",
    "for i in range(9):\n",
    "    T.append([i,[0,0]])\n",
    "print(T)\n",
    "T[0][1]"
   ]
  }
 ],
 "metadata": {
  "kernelspec": {
   "display_name": "Python 3 (ipykernel)",
   "language": "python",
   "name": "python3"
  },
  "language_info": {
   "codemirror_mode": {
    "name": "ipython",
    "version": 3
   },
   "file_extension": ".py",
   "mimetype": "text/x-python",
   "name": "python",
   "nbconvert_exporter": "python",
   "pygments_lexer": "ipython3",
   "version": "3.9.7"
  }
 },
 "nbformat": 4,
 "nbformat_minor": 5
}
